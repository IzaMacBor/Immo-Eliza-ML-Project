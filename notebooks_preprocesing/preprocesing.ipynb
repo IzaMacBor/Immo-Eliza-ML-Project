{
 "cells": [
  {
   "cell_type": "code",
   "execution_count": null,
   "metadata": {},
   "outputs": [],
   "source": [
    "import pandas as pd\n",
    "import numpy as np\n",
    "import seaborn as sns\n",
    "import matplotlib.pyplot as plt\n",
    "from sklearn.model_selection import train_test_split\n",
    "from sklearn.linear_model import LinearRegression\n",
    "from sklearn.metrics import mean_squared_error\n",
    "from sklearn.preprocessing import StandardScaler, OneHotEncoder\n",
    "from sklearn.compose import ColumnTransformer\n",
    "from sklearn.pipeline import Pipeline\n",
    "from sklearn.impute import SimpleImputer\n",
    "import joblib\n",
    "import matplotlib.pyplot as plt\n",
    "import plotly.express as px\n",
    "import plotly.graph_objects as go\n",
    "from plotly.subplots import make_subplots\n",
    "import json"
   ]
  },
  {
   "cell_type": "markdown",
   "metadata": {},
   "source": [
    "<p span style=\"color:#ADD8E6; font-size:30px\">\n",
    "<i>Loading dataset</i>  \n",
    "</p"
   ]
  },
  {
   "cell_type": "code",
   "execution_count": 4,
   "metadata": {},
   "outputs": [
    {
     "name": "stdout",
     "output_type": "stream",
     "text": [
      "<class 'pandas.core.frame.DataFrame'>\n",
      "RangeIndex: 75511 entries, 0 to 75510\n",
      "Data columns (total 30 columns):\n",
      " #   Column                          Non-Null Count  Dtype  \n",
      "---  ------                          --------------  -----  \n",
      " 0   id                              75511 non-null  int64  \n",
      " 1   price                           75511 non-null  float64\n",
      " 2   property_type                   75511 non-null  object \n",
      " 3   subproperty_type                75511 non-null  object \n",
      " 4   region                          75511 non-null  object \n",
      " 5   province                        75511 non-null  object \n",
      " 6   locality                        75511 non-null  object \n",
      " 7   zip_code                        75511 non-null  int64  \n",
      " 8   latitude                        61413 non-null  float64\n",
      " 9   longitude                       61413 non-null  float64\n",
      " 10  construction_year               42120 non-null  float64\n",
      " 11  total_area_sqm                  67896 non-null  float64\n",
      " 12  surface_land_sqm                39255 non-null  float64\n",
      " 13  nbr_frontages                   49165 non-null  float64\n",
      " 14  nbr_bedrooms                    75511 non-null  float64\n",
      " 15  equipped_kitchen                75511 non-null  object \n",
      " 16  fl_furnished                    75511 non-null  int64  \n",
      " 17  fl_open_fire                    75511 non-null  int64  \n",
      " 18  fl_terrace                      75511 non-null  int64  \n",
      " 19  terrace_sqm                     62371 non-null  float64\n",
      " 20  fl_garden                       75511 non-null  int64  \n",
      " 21  garden_sqm                      72572 non-null  float64\n",
      " 22  fl_swimming_pool                75511 non-null  int64  \n",
      " 23  fl_floodzone                    75511 non-null  int64  \n",
      " 24  state_building                  75511 non-null  object \n",
      " 25  primary_energy_consumption_sqm  48944 non-null  float64\n",
      " 26  epc                             75511 non-null  object \n",
      " 27  heating_type                    75511 non-null  object \n",
      " 28  fl_double_glazing               75511 non-null  int64  \n",
      " 29  cadastral_income                30544 non-null  float64\n",
      "dtypes: float64(12), int64(9), object(9)\n",
      "memory usage: 17.3+ MB\n"
     ]
    },
    {
     "data": {
      "text/html": [
       "<div>\n",
       "<style scoped>\n",
       "    .dataframe tbody tr th:only-of-type {\n",
       "        vertical-align: middle;\n",
       "    }\n",
       "\n",
       "    .dataframe tbody tr th {\n",
       "        vertical-align: top;\n",
       "    }\n",
       "\n",
       "    .dataframe thead th {\n",
       "        text-align: right;\n",
       "    }\n",
       "</style>\n",
       "<table border=\"1\" class=\"dataframe\">\n",
       "  <thead>\n",
       "    <tr style=\"text-align: right;\">\n",
       "      <th></th>\n",
       "      <th>id</th>\n",
       "      <th>price</th>\n",
       "      <th>property_type</th>\n",
       "      <th>subproperty_type</th>\n",
       "      <th>region</th>\n",
       "      <th>province</th>\n",
       "      <th>locality</th>\n",
       "      <th>zip_code</th>\n",
       "      <th>latitude</th>\n",
       "      <th>longitude</th>\n",
       "      <th>construction_year</th>\n",
       "      <th>total_area_sqm</th>\n",
       "      <th>surface_land_sqm</th>\n",
       "      <th>nbr_frontages</th>\n",
       "      <th>nbr_bedrooms</th>\n",
       "      <th>equipped_kitchen</th>\n",
       "      <th>fl_furnished</th>\n",
       "      <th>fl_open_fire</th>\n",
       "      <th>fl_terrace</th>\n",
       "      <th>terrace_sqm</th>\n",
       "      <th>fl_garden</th>\n",
       "      <th>garden_sqm</th>\n",
       "      <th>fl_swimming_pool</th>\n",
       "      <th>fl_floodzone</th>\n",
       "      <th>state_building</th>\n",
       "      <th>primary_energy_consumption_sqm</th>\n",
       "      <th>epc</th>\n",
       "      <th>heating_type</th>\n",
       "      <th>fl_double_glazing</th>\n",
       "      <th>cadastral_income</th>\n",
       "    </tr>\n",
       "  </thead>\n",
       "  <tbody>\n",
       "    <tr>\n",
       "      <th>0</th>\n",
       "      <td>34221000</td>\n",
       "      <td>225000.0</td>\n",
       "      <td>APARTMENT</td>\n",
       "      <td>APARTMENT</td>\n",
       "      <td>Flanders</td>\n",
       "      <td>Antwerp</td>\n",
       "      <td>Antwerp</td>\n",
       "      <td>2050</td>\n",
       "      <td>51.217172</td>\n",
       "      <td>4.379982</td>\n",
       "      <td>1963.0</td>\n",
       "      <td>100.0</td>\n",
       "      <td>NaN</td>\n",
       "      <td>2.0</td>\n",
       "      <td>2.0</td>\n",
       "      <td>INSTALLED</td>\n",
       "      <td>0</td>\n",
       "      <td>0</td>\n",
       "      <td>1</td>\n",
       "      <td>5.0</td>\n",
       "      <td>0</td>\n",
       "      <td>0.0</td>\n",
       "      <td>0</td>\n",
       "      <td>0</td>\n",
       "      <td>MISSING</td>\n",
       "      <td>231.0</td>\n",
       "      <td>C</td>\n",
       "      <td>GAS</td>\n",
       "      <td>1</td>\n",
       "      <td>922.0</td>\n",
       "    </tr>\n",
       "    <tr>\n",
       "      <th>1</th>\n",
       "      <td>2104000</td>\n",
       "      <td>449000.0</td>\n",
       "      <td>HOUSE</td>\n",
       "      <td>HOUSE</td>\n",
       "      <td>Flanders</td>\n",
       "      <td>East Flanders</td>\n",
       "      <td>Gent</td>\n",
       "      <td>9185</td>\n",
       "      <td>51.174944</td>\n",
       "      <td>3.845248</td>\n",
       "      <td>NaN</td>\n",
       "      <td>NaN</td>\n",
       "      <td>680.0</td>\n",
       "      <td>NaN</td>\n",
       "      <td>2.0</td>\n",
       "      <td>MISSING</td>\n",
       "      <td>0</td>\n",
       "      <td>0</td>\n",
       "      <td>0</td>\n",
       "      <td>0.0</td>\n",
       "      <td>0</td>\n",
       "      <td>0.0</td>\n",
       "      <td>0</td>\n",
       "      <td>0</td>\n",
       "      <td>MISSING</td>\n",
       "      <td>221.0</td>\n",
       "      <td>C</td>\n",
       "      <td>MISSING</td>\n",
       "      <td>1</td>\n",
       "      <td>406.0</td>\n",
       "    </tr>\n",
       "    <tr>\n",
       "      <th>2</th>\n",
       "      <td>34036000</td>\n",
       "      <td>335000.0</td>\n",
       "      <td>APARTMENT</td>\n",
       "      <td>APARTMENT</td>\n",
       "      <td>Brussels-Capital</td>\n",
       "      <td>Brussels</td>\n",
       "      <td>Brussels</td>\n",
       "      <td>1070</td>\n",
       "      <td>50.842043</td>\n",
       "      <td>4.334543</td>\n",
       "      <td>NaN</td>\n",
       "      <td>142.0</td>\n",
       "      <td>NaN</td>\n",
       "      <td>2.0</td>\n",
       "      <td>3.0</td>\n",
       "      <td>INSTALLED</td>\n",
       "      <td>0</td>\n",
       "      <td>0</td>\n",
       "      <td>1</td>\n",
       "      <td>NaN</td>\n",
       "      <td>0</td>\n",
       "      <td>0.0</td>\n",
       "      <td>0</td>\n",
       "      <td>1</td>\n",
       "      <td>AS_NEW</td>\n",
       "      <td>NaN</td>\n",
       "      <td>MISSING</td>\n",
       "      <td>GAS</td>\n",
       "      <td>0</td>\n",
       "      <td>NaN</td>\n",
       "    </tr>\n",
       "    <tr>\n",
       "      <th>3</th>\n",
       "      <td>58496000</td>\n",
       "      <td>501000.0</td>\n",
       "      <td>HOUSE</td>\n",
       "      <td>HOUSE</td>\n",
       "      <td>Flanders</td>\n",
       "      <td>Antwerp</td>\n",
       "      <td>Turnhout</td>\n",
       "      <td>2275</td>\n",
       "      <td>51.238312</td>\n",
       "      <td>4.817192</td>\n",
       "      <td>2024.0</td>\n",
       "      <td>187.0</td>\n",
       "      <td>505.0</td>\n",
       "      <td>NaN</td>\n",
       "      <td>3.0</td>\n",
       "      <td>MISSING</td>\n",
       "      <td>0</td>\n",
       "      <td>0</td>\n",
       "      <td>0</td>\n",
       "      <td>0.0</td>\n",
       "      <td>0</td>\n",
       "      <td>0.0</td>\n",
       "      <td>0</td>\n",
       "      <td>1</td>\n",
       "      <td>MISSING</td>\n",
       "      <td>99.0</td>\n",
       "      <td>A</td>\n",
       "      <td>MISSING</td>\n",
       "      <td>0</td>\n",
       "      <td>NaN</td>\n",
       "    </tr>\n",
       "    <tr>\n",
       "      <th>4</th>\n",
       "      <td>48727000</td>\n",
       "      <td>982700.0</td>\n",
       "      <td>APARTMENT</td>\n",
       "      <td>DUPLEX</td>\n",
       "      <td>Wallonia</td>\n",
       "      <td>Walloon Brabant</td>\n",
       "      <td>Nivelles</td>\n",
       "      <td>1410</td>\n",
       "      <td>NaN</td>\n",
       "      <td>NaN</td>\n",
       "      <td>2022.0</td>\n",
       "      <td>169.0</td>\n",
       "      <td>NaN</td>\n",
       "      <td>2.0</td>\n",
       "      <td>2.0</td>\n",
       "      <td>HYPER_EQUIPPED</td>\n",
       "      <td>0</td>\n",
       "      <td>0</td>\n",
       "      <td>1</td>\n",
       "      <td>20.0</td>\n",
       "      <td>1</td>\n",
       "      <td>142.0</td>\n",
       "      <td>0</td>\n",
       "      <td>0</td>\n",
       "      <td>AS_NEW</td>\n",
       "      <td>19.0</td>\n",
       "      <td>A+</td>\n",
       "      <td>GAS</td>\n",
       "      <td>0</td>\n",
       "      <td>NaN</td>\n",
       "    </tr>\n",
       "  </tbody>\n",
       "</table>\n",
       "</div>"
      ],
      "text/plain": [
       "         id     price property_type subproperty_type            region  \\\n",
       "0  34221000  225000.0     APARTMENT        APARTMENT          Flanders   \n",
       "1   2104000  449000.0         HOUSE            HOUSE          Flanders   \n",
       "2  34036000  335000.0     APARTMENT        APARTMENT  Brussels-Capital   \n",
       "3  58496000  501000.0         HOUSE            HOUSE          Flanders   \n",
       "4  48727000  982700.0     APARTMENT           DUPLEX          Wallonia   \n",
       "\n",
       "          province  locality  zip_code   latitude  longitude  \\\n",
       "0          Antwerp   Antwerp      2050  51.217172   4.379982   \n",
       "1    East Flanders      Gent      9185  51.174944   3.845248   \n",
       "2         Brussels  Brussels      1070  50.842043   4.334543   \n",
       "3          Antwerp  Turnhout      2275  51.238312   4.817192   \n",
       "4  Walloon Brabant  Nivelles      1410        NaN        NaN   \n",
       "\n",
       "   construction_year  total_area_sqm  surface_land_sqm  nbr_frontages  \\\n",
       "0             1963.0           100.0               NaN            2.0   \n",
       "1                NaN             NaN             680.0            NaN   \n",
       "2                NaN           142.0               NaN            2.0   \n",
       "3             2024.0           187.0             505.0            NaN   \n",
       "4             2022.0           169.0               NaN            2.0   \n",
       "\n",
       "   nbr_bedrooms equipped_kitchen  fl_furnished  fl_open_fire  fl_terrace  \\\n",
       "0           2.0        INSTALLED             0             0           1   \n",
       "1           2.0          MISSING             0             0           0   \n",
       "2           3.0        INSTALLED             0             0           1   \n",
       "3           3.0          MISSING             0             0           0   \n",
       "4           2.0   HYPER_EQUIPPED             0             0           1   \n",
       "\n",
       "   terrace_sqm  fl_garden  garden_sqm  fl_swimming_pool  fl_floodzone  \\\n",
       "0          5.0          0         0.0                 0             0   \n",
       "1          0.0          0         0.0                 0             0   \n",
       "2          NaN          0         0.0                 0             1   \n",
       "3          0.0          0         0.0                 0             1   \n",
       "4         20.0          1       142.0                 0             0   \n",
       "\n",
       "  state_building  primary_energy_consumption_sqm      epc heating_type  \\\n",
       "0        MISSING                           231.0        C          GAS   \n",
       "1        MISSING                           221.0        C      MISSING   \n",
       "2         AS_NEW                             NaN  MISSING          GAS   \n",
       "3        MISSING                            99.0        A      MISSING   \n",
       "4         AS_NEW                            19.0       A+          GAS   \n",
       "\n",
       "   fl_double_glazing  cadastral_income  \n",
       "0                  1             922.0  \n",
       "1                  1             406.0  \n",
       "2                  0               NaN  \n",
       "3                  0               NaN  \n",
       "4                  0               NaN  "
      ]
     },
     "execution_count": 4,
     "metadata": {},
     "output_type": "execute_result"
    }
   ],
   "source": [
    "\n",
    "# Load the dataset\n",
    "file_path = r'C:\\Users\\izama\\Desktop\\machine learning\\data\\properties.csv'\n",
    "data = pd.read_csv(file_path)\n",
    "\n",
    "#Show all columns\n",
    "pd.set_option('display.max_columns', None)\n",
    "\n",
    "# Make s copy of the dataset to work on\n",
    "data_copy = data.copy()\n",
    "\n",
    "# Show basic information\n",
    "data_copy.info()\n",
    "data_copy.head()"
   ]
  },
  {
   "cell_type": "markdown",
   "metadata": {},
   "source": [
    "<p span style=\"color:#ADD8E6; font-size:30px\">\n",
    "<i>Removing columns</i>  \n",
    "</p"
   ]
  },
  {
   "cell_type": "code",
   "execution_count": 5,
   "metadata": {},
   "outputs": [],
   "source": [
    "# Removing columns that have a lot of 'MISSING' values ​​and do not have such an impact on price prediction.\n",
    "data_copy.drop(columns=['heating_type', 'equipped_kitchen', 'terrace_sqm', 'nbr_frontages'], inplace=True)\n",
    "\n",
    "# Removing columns that have not such an impact on price prediction.\n",
    "data_copy.drop(columns=['property_type', 'fl_furnished', 'latitude', 'longitude', 'cadastral_income', \n",
    "                        'fl_double_glazing', 'primary_energy_consumption_sqm', 'fl_floodzone'], inplace=True)"
   ]
  },
  {
   "cell_type": "markdown",
   "metadata": {},
   "source": [
    "<p style=\"color:#ADD8E6; font-size:30px;\">\n",
    "<i>Focusing on Houses and Apartments for Price Prediction</i>\n",
    "</p>\n",
    "\n",
    "Since the goal of our analysis and model is to predict prices specifically for houses and apartments, all other property types have been excluded from the dataset. Houses and apartments represent the majority of the data and are the most commonly sought-after property types, making them the primary focus of our pricing analysis. By limiting our data to these two types, we ensure that our model remains streamlined and accurate, tailoring its predictions to the most relevant market segments.\n"
   ]
  },
  {
   "cell_type": "code",
   "execution_count": 6,
   "metadata": {},
   "outputs": [
    {
     "name": "stdout",
     "output_type": "stream",
     "text": [
      "Original dataset size: 75511\n",
      "Dataset size (only HOUSE and APARTMENT): 58490\n",
      "subproperty_type\n",
      "HOUSE        29730\n",
      "APARTMENT    28760\n",
      "Name: count, dtype: int64\n"
     ]
    }
   ],
   "source": [
    "# Define the allowed subproperty types (HOUSE and APARTMENT)\n",
    "allowed_subproperty_types = ['HOUSE', 'APARTMENT']\n",
    "\n",
    "# Filter the data to keep only rows with subproperty_type as HOUSE or APARTMENT\n",
    "data_copy = data_copy[data_copy['subproperty_type'].isin(allowed_subproperty_types)].copy()\n",
    "\n",
    "# Check the size of the cleaned dataset\n",
    "print(f\"Original dataset size: {len(data)}\")\n",
    "print(f\"Dataset size (only HOUSE and APARTMENT): {len(data_copy)}\")\n",
    "print(data_copy['subproperty_type'].value_counts())"
   ]
  },
  {
   "cell_type": "markdown",
   "metadata": {},
   "source": [
    "<p span style=\"color:#ADD8E6; font-size:30px\">\n",
    "<i>Checking duplicates</i>  \n",
    "</p>  "
   ]
  },
  {
   "cell_type": "code",
   "execution_count": 7,
   "metadata": {},
   "outputs": [
    {
     "name": "stdout",
     "output_type": "stream",
     "text": [
      "The DataFrame has 0 duplicate rows\n"
     ]
    }
   ],
   "source": [
    "# Detecting duplicate rows in the DataFrame\n",
    "def detect_duplicates(data_copy):\n",
    "    duplicates = data_copy[data_copy.duplicated()]\n",
    "    return duplicates\n",
    "\n",
    "# Find duplicate rows\n",
    "duplicates = detect_duplicates(data_copy)\n",
    "\n",
    "# Display the number of duplicate rows\n",
    "print(f\"The DataFrame has {len(duplicates)} duplicate rows\")\n",
    "\n",
    "# Optionally, display the duplicate rows\n",
    "if len(duplicates) > 0:\n",
    "    print(\"Duplicate rows:\")\n",
    "    print(duplicates)\n",
    "\n",
    "# Remove duplicates if necessary (optional)\n",
    "data_copy = data_copy.drop_duplicates()\n"
   ]
  },
  {
   "cell_type": "markdown",
   "metadata": {},
   "source": [
    "<p span style=\"color:#ADD8E6; font-size:30px\">\n",
    "<i>Checking outliers</i>  \n",
    "</p>  "
   ]
  },
  {
   "cell_type": "code",
   "execution_count": 8,
   "metadata": {},
   "outputs": [
    {
     "data": {
      "image/png": "[encoded data removed]",
      "text/plain": [
       "<Figure size 1000x600 with 1 Axes>"
      ]
     },
     "metadata": {},
     "output_type": "display_data"
    }
   ],
   "source": [
    "from scipy.stats import zscore\n",
    "import numpy as np\n",
    "import matplotlib.pyplot as plt\n",
    "\n",
    "# Detecting potential outliers and setting them to NaN\n",
    "def set_outliers_to_nan(df, columns, threshold=3):\n",
    "    df_no_outliers = df.copy()\n",
    "    for col in columns:\n",
    "        z_scores = zscore(df_no_outliers[col].fillna(df_no_outliers[col].mean()))\n",
    "        mask = (z_scores > threshold) | (z_scores < -threshold)\n",
    "        df_no_outliers.loc[mask, col] = np.nan  # Set outliers to NaN\n",
    "    return df_no_outliers\n",
    "\"\"\"\n",
    "# Function to visualize outliers using a boxplot\n",
    "def visualize_outliers_boxplot(df, columns, title_suffix=\"\"):\n",
    "    for col in columns:\n",
    "        plt.figure(figsize=(8, 6))\n",
    "        plt.boxplot(df[col].dropna(), vert=False, patch_artist=True)\n",
    "        plt.title(f\"Boxplot of '{col}' {title_suffix}\")\n",
    "        plt.xlabel(col)\n",
    "        plt.show()\n",
    "\"\"\"\n",
    "\n",
    "# Select numeric columns for outlier detection\n",
    "numeric_columns = data_copy.select_dtypes(include=['float64', 'int']).columns\n",
    "\n",
    "# Count data points before outlier handling\n",
    "data_points_before = {col: data_copy[col].count() for col in numeric_columns}\n",
    "\n",
    "# Detect and set outliers to NaN\n",
    "data_copy_no_outliers = set_outliers_to_nan(data_copy, numeric_columns)\n",
    "\n",
    "# Count data points after setting outliers to NaN\n",
    "data_points_after = {col: data_copy_no_outliers[col].count() for col in numeric_columns}\n",
    "\n",
    "\"\"\"\n",
    "# Visualize columns after outlier handling\n",
    "visualize_outliers_boxplot(data_copy_no_outliers, numeric_columns, title_suffix=\"after Outlier Handling\")\n",
    "\"\"\"\n",
    "\n",
    "# Plot number of data points before and after outlier handling\n",
    "columns = list(data_points_before.keys())\n",
    "counts_before = list(data_points_before.values())\n",
    "counts_after = list(data_points_after.values())\n",
    "\n",
    "plt.figure(figsize=(10, 6))\n",
    "bar_width = 0.35\n",
    "index = np.arange(len(columns))\n",
    "\n",
    "plt.bar(index, counts_before, bar_width, label='Before Outlier Handling')\n",
    "plt.bar(index + bar_width, counts_after, bar_width, label='After Outlier Handling')\n",
    "\n",
    "plt.xlabel('Columns')\n",
    "plt.ylabel('Number of Data Points')\n",
    "plt.title('Data Points Before and After Outlier Handling')\n",
    "plt.xticks(index + bar_width / 2, columns, rotation=45)\n",
    "plt.legend()\n",
    "plt.tight_layout()\n",
    "plt.show()\n"
   ]
  },
  {
   "cell_type": "code",
   "execution_count": 9,
   "metadata": {},
   "outputs": [
    {
     "name": "stdout",
     "output_type": "stream",
     "text": [
      "<class 'pandas.core.frame.DataFrame'>\n",
      "Index: 58490 entries, 0 to 75506\n",
      "Data columns (total 18 columns):\n",
      " #   Column             Non-Null Count  Dtype  \n",
      "---  ------             --------------  -----  \n",
      " 0   id                 58490 non-null  float64\n",
      " 1   price              57661 non-null  float64\n",
      " 2   subproperty_type   58490 non-null  object \n",
      " 3   region             58490 non-null  object \n",
      " 4   province           58490 non-null  object \n",
      " 5   locality           58490 non-null  object \n",
      " 6   zip_code           58490 non-null  float64\n",
      " 7   construction_year  31116 non-null  float64\n",
      " 8   total_area_sqm     52599 non-null  float64\n",
      " 9   surface_land_sqm   29492 non-null  float64\n",
      " 10  nbr_bedrooms       57990 non-null  float64\n",
      " 11  fl_open_fire       58490 non-null  float64\n",
      " 12  fl_terrace         58490 non-null  float64\n",
      " 13  fl_garden          58490 non-null  float64\n",
      " 14  garden_sqm         55993 non-null  float64\n",
      " 15  fl_swimming_pool   57768 non-null  float64\n",
      " 16  state_building     58490 non-null  object \n",
      " 17  epc                58490 non-null  object \n",
      "dtypes: float64(12), object(6)\n",
      "memory usage: 8.5+ MB\n"
     ]
    }
   ],
   "source": [
    "data_copy_no_outliers.info()"
   ]
  },
  {
   "cell_type": "code",
   "execution_count": 10,
   "metadata": {},
   "outputs": [
    {
     "data": {
      "text/html": [
       "<div>\n",
       "<style scoped>\n",
       "    .dataframe tbody tr th:only-of-type {\n",
       "        vertical-align: middle;\n",
       "    }\n",
       "\n",
       "    .dataframe tbody tr th {\n",
       "        vertical-align: top;\n",
       "    }\n",
       "\n",
       "    .dataframe thead th {\n",
       "        text-align: right;\n",
       "    }\n",
       "</style>\n",
       "<table border=\"1\" class=\"dataframe\">\n",
       "  <thead>\n",
       "    <tr style=\"text-align: right;\">\n",
       "      <th></th>\n",
       "      <th>id</th>\n",
       "      <th>price</th>\n",
       "      <th>subproperty_type</th>\n",
       "      <th>region</th>\n",
       "      <th>province</th>\n",
       "      <th>locality</th>\n",
       "      <th>zip_code</th>\n",
       "      <th>construction_year</th>\n",
       "      <th>total_area_sqm</th>\n",
       "      <th>surface_land_sqm</th>\n",
       "      <th>nbr_bedrooms</th>\n",
       "      <th>fl_open_fire</th>\n",
       "      <th>fl_terrace</th>\n",
       "      <th>fl_garden</th>\n",
       "      <th>garden_sqm</th>\n",
       "      <th>fl_swimming_pool</th>\n",
       "      <th>state_building</th>\n",
       "      <th>epc</th>\n",
       "    </tr>\n",
       "  </thead>\n",
       "  <tbody>\n",
       "    <tr>\n",
       "      <th>0</th>\n",
       "      <td>34221000.0</td>\n",
       "      <td>225000.0</td>\n",
       "      <td>APARTMENT</td>\n",
       "      <td>Flanders</td>\n",
       "      <td>Antwerp</td>\n",
       "      <td>Antwerp</td>\n",
       "      <td>2050.0</td>\n",
       "      <td>1963.0</td>\n",
       "      <td>100.0</td>\n",
       "      <td>NaN</td>\n",
       "      <td>2.0</td>\n",
       "      <td>0.0</td>\n",
       "      <td>1.0</td>\n",
       "      <td>0.0</td>\n",
       "      <td>0.0</td>\n",
       "      <td>0.0</td>\n",
       "      <td>MISSING</td>\n",
       "      <td>C</td>\n",
       "    </tr>\n",
       "    <tr>\n",
       "      <th>1</th>\n",
       "      <td>2104000.0</td>\n",
       "      <td>449000.0</td>\n",
       "      <td>HOUSE</td>\n",
       "      <td>Flanders</td>\n",
       "      <td>East Flanders</td>\n",
       "      <td>Gent</td>\n",
       "      <td>9185.0</td>\n",
       "      <td>NaN</td>\n",
       "      <td>NaN</td>\n",
       "      <td>680.0</td>\n",
       "      <td>2.0</td>\n",
       "      <td>0.0</td>\n",
       "      <td>0.0</td>\n",
       "      <td>0.0</td>\n",
       "      <td>0.0</td>\n",
       "      <td>0.0</td>\n",
       "      <td>MISSING</td>\n",
       "      <td>C</td>\n",
       "    </tr>\n",
       "    <tr>\n",
       "      <th>2</th>\n",
       "      <td>34036000.0</td>\n",
       "      <td>335000.0</td>\n",
       "      <td>APARTMENT</td>\n",
       "      <td>Brussels-Capital</td>\n",
       "      <td>Brussels</td>\n",
       "      <td>Brussels</td>\n",
       "      <td>1070.0</td>\n",
       "      <td>NaN</td>\n",
       "      <td>142.0</td>\n",
       "      <td>NaN</td>\n",
       "      <td>3.0</td>\n",
       "      <td>0.0</td>\n",
       "      <td>1.0</td>\n",
       "      <td>0.0</td>\n",
       "      <td>0.0</td>\n",
       "      <td>0.0</td>\n",
       "      <td>AS_NEW</td>\n",
       "      <td>MISSING</td>\n",
       "    </tr>\n",
       "    <tr>\n",
       "      <th>3</th>\n",
       "      <td>58496000.0</td>\n",
       "      <td>501000.0</td>\n",
       "      <td>HOUSE</td>\n",
       "      <td>Flanders</td>\n",
       "      <td>Antwerp</td>\n",
       "      <td>Turnhout</td>\n",
       "      <td>2275.0</td>\n",
       "      <td>2024.0</td>\n",
       "      <td>187.0</td>\n",
       "      <td>505.0</td>\n",
       "      <td>3.0</td>\n",
       "      <td>0.0</td>\n",
       "      <td>0.0</td>\n",
       "      <td>0.0</td>\n",
       "      <td>0.0</td>\n",
       "      <td>0.0</td>\n",
       "      <td>MISSING</td>\n",
       "      <td>A</td>\n",
       "    </tr>\n",
       "    <tr>\n",
       "      <th>5</th>\n",
       "      <td>22183000.0</td>\n",
       "      <td>548514.0</td>\n",
       "      <td>HOUSE</td>\n",
       "      <td>Flanders</td>\n",
       "      <td>Flemish Brabant</td>\n",
       "      <td>Halle-Vilvoorde</td>\n",
       "      <td>1700.0</td>\n",
       "      <td>NaN</td>\n",
       "      <td>187.0</td>\n",
       "      <td>710.0</td>\n",
       "      <td>3.0</td>\n",
       "      <td>0.0</td>\n",
       "      <td>0.0</td>\n",
       "      <td>0.0</td>\n",
       "      <td>0.0</td>\n",
       "      <td>0.0</td>\n",
       "      <td>AS_NEW</td>\n",
       "      <td>MISSING</td>\n",
       "    </tr>\n",
       "  </tbody>\n",
       "</table>\n",
       "</div>"
      ],
      "text/plain": [
       "           id     price subproperty_type            region         province  \\\n",
       "0  34221000.0  225000.0        APARTMENT          Flanders          Antwerp   \n",
       "1   2104000.0  449000.0            HOUSE          Flanders    East Flanders   \n",
       "2  34036000.0  335000.0        APARTMENT  Brussels-Capital         Brussels   \n",
       "3  58496000.0  501000.0            HOUSE          Flanders          Antwerp   \n",
       "5  22183000.0  548514.0            HOUSE          Flanders  Flemish Brabant   \n",
       "\n",
       "          locality  zip_code  construction_year  total_area_sqm  \\\n",
       "0          Antwerp    2050.0             1963.0           100.0   \n",
       "1             Gent    9185.0                NaN             NaN   \n",
       "2         Brussels    1070.0                NaN           142.0   \n",
       "3         Turnhout    2275.0             2024.0           187.0   \n",
       "5  Halle-Vilvoorde    1700.0                NaN           187.0   \n",
       "\n",
       "   surface_land_sqm  nbr_bedrooms  fl_open_fire  fl_terrace  fl_garden  \\\n",
       "0               NaN           2.0           0.0         1.0        0.0   \n",
       "1             680.0           2.0           0.0         0.0        0.0   \n",
       "2               NaN           3.0           0.0         1.0        0.0   \n",
       "3             505.0           3.0           0.0         0.0        0.0   \n",
       "5             710.0           3.0           0.0         0.0        0.0   \n",
       "\n",
       "   garden_sqm  fl_swimming_pool state_building      epc  \n",
       "0         0.0               0.0        MISSING        C  \n",
       "1         0.0               0.0        MISSING        C  \n",
       "2         0.0               0.0         AS_NEW  MISSING  \n",
       "3         0.0               0.0        MISSING        A  \n",
       "5         0.0               0.0         AS_NEW  MISSING  "
      ]
     },
     "execution_count": 10,
     "metadata": {},
     "output_type": "execute_result"
    }
   ],
   "source": [
    "data_copy_no_outliers.head()"
   ]
  },
  {
   "cell_type": "markdown",
   "metadata": {},
   "source": [
    "<p span style=\"color:#ADD8E6; font-size:30px\">\n",
    "<i>Checking missing values in numerical columns</i>  \n",
    "</p>  "
   ]
  },
  {
   "cell_type": "code",
   "execution_count": 11,
   "metadata": {},
   "outputs": [
    {
     "data": {
      "text/plain": [
       "id                       0\n",
       "price                  829\n",
       "subproperty_type         0\n",
       "region                   0\n",
       "province                 0\n",
       "locality                 0\n",
       "zip_code                 0\n",
       "construction_year    27374\n",
       "total_area_sqm        5891\n",
       "surface_land_sqm     28998\n",
       "nbr_bedrooms           500\n",
       "fl_open_fire             0\n",
       "fl_terrace               0\n",
       "fl_garden                0\n",
       "garden_sqm            2497\n",
       "fl_swimming_pool       722\n",
       "state_building           0\n",
       "epc                      0\n",
       "dtype: int64"
      ]
     },
     "execution_count": 11,
     "metadata": {},
     "output_type": "execute_result"
    }
   ],
   "source": [
    "# Check for any remaining missing values\n",
    "data_copy_no_outliers.isnull().sum()"
   ]
  },
  {
   "cell_type": "code",
   "execution_count": 12,
   "metadata": {},
   "outputs": [],
   "source": [
    "# Remove rows with NaN values in specified columns\n",
    "columns_to_check = ['price', 'fl_swimming_pool', 'nbr_bedrooms']  # Replace with the columns you want to check for NaN\n",
    "data_copy_no_outliers = data_copy_no_outliers.dropna(subset=columns_to_check)\n"
   ]
  },
  {
   "cell_type": "code",
   "execution_count": 13,
   "metadata": {},
   "outputs": [
    {
     "data": {
      "text/plain": [
       "id                       0\n",
       "price                    0\n",
       "subproperty_type         0\n",
       "region                   0\n",
       "province                 0\n",
       "locality                 0\n",
       "zip_code                 0\n",
       "construction_year    26717\n",
       "total_area_sqm        5720\n",
       "surface_land_sqm     28165\n",
       "nbr_bedrooms             0\n",
       "fl_open_fire             0\n",
       "fl_terrace               0\n",
       "fl_garden                0\n",
       "garden_sqm            2371\n",
       "fl_swimming_pool         0\n",
       "state_building           0\n",
       "epc                      0\n",
       "dtype: int64"
      ]
     },
     "execution_count": 13,
     "metadata": {},
     "output_type": "execute_result"
    }
   ],
   "source": [
    "# Check for any remaining missing values\n",
    "data_copy_no_outliers.isnull().sum()"
   ]
  },
  {
   "cell_type": "code",
   "execution_count": 14,
   "metadata": {},
   "outputs": [
    {
     "name": "stderr",
     "output_type": "stream",
     "text": [
      "C:\\Users\\izama\\AppData\\Local\\Temp\\ipykernel_20056\\2380890713.py:5: FutureWarning: A value is trying to be set on a copy of a DataFrame or Series through chained assignment using an inplace method.\n",
      "The behavior will change in pandas 3.0. This inplace method will never work because the intermediate object on which we are setting values always behaves as a copy.\n",
      "\n",
      "For example, when doing 'df[col].method(value, inplace=True)', try using 'df.method({col: value}, inplace=True)' or df[col] = df[col].method(value) instead, to perform the operation inplace on the original object.\n",
      "\n",
      "\n",
      "  data_copy_no_outliers['construction_year'].fillna(data_copy_no_outliers['construction_year'].median(), inplace=True)\n"
     ]
    }
   ],
   "source": [
    "# Fill using the median construction year of each 'subproperty_type' and 'locality' group\n",
    "data_copy_no_outliers['construction_year'] = data_copy_no_outliers.groupby(['subproperty_type', 'locality'])['construction_year'].transform(lambda x: x.fillna(x.median()))\n",
    "\n",
    "# Fill remaining missing values with the overall median\n",
    "data_copy_no_outliers['construction_year'].fillna(data_copy_no_outliers['construction_year'].median(), inplace=True)\n"
   ]
  },
  {
   "cell_type": "code",
   "execution_count": 15,
   "metadata": {},
   "outputs": [],
   "source": [
    "# Fill missing values with the median area for each subproperty type\n",
    "data_copy_no_outliers['total_area_sqm'] = data_copy_no_outliers.groupby('subproperty_type')['total_area_sqm'].transform(lambda x: x.fillna(x.median()))"
   ]
  },
  {
   "cell_type": "code",
   "execution_count": 16,
   "metadata": {},
   "outputs": [],
   "source": [
    "# Fill missing land area with 0 for apartments, median for other property types\n",
    "data_copy_no_outliers['surface_land_sqm'] = data_copy_no_outliers.groupby('subproperty_type')['surface_land_sqm'].transform(lambda x: x.fillna(0 if x.name == 'APARTMENT' else x.median()))"
   ]
  },
  {
   "cell_type": "code",
   "execution_count": 17,
   "metadata": {},
   "outputs": [],
   "source": [
    "# Fill missing garden area with 0 for apartments, median for other property types\n",
    "data_copy_no_outliers['garden_sqm'] = data_copy_no_outliers.groupby('subproperty_type')['garden_sqm'].transform(lambda x: x.fillna(0 if x.name == 'APARTMENT' else x.median()))"
   ]
  },
  {
   "cell_type": "code",
   "execution_count": 18,
   "metadata": {},
   "outputs": [
    {
     "data": {
      "text/plain": [
       "id                   0\n",
       "price                0\n",
       "subproperty_type     0\n",
       "region               0\n",
       "province             0\n",
       "locality             0\n",
       "zip_code             0\n",
       "construction_year    0\n",
       "total_area_sqm       0\n",
       "surface_land_sqm     0\n",
       "nbr_bedrooms         0\n",
       "fl_open_fire         0\n",
       "fl_terrace           0\n",
       "fl_garden            0\n",
       "garden_sqm           0\n",
       "fl_swimming_pool     0\n",
       "state_building       0\n",
       "epc                  0\n",
       "dtype: int64"
      ]
     },
     "execution_count": 18,
     "metadata": {},
     "output_type": "execute_result"
    }
   ],
   "source": [
    "data_copy_no_outliers.isnull().sum()"
   ]
  },
  {
   "cell_type": "markdown",
   "metadata": {},
   "source": [
    "<p span style=\"color:#ADD8E6; font-size:30px\">\n",
    "<i>Checking missing values in caterogical columns</i>  \n",
    "</p>  "
   ]
  },
  {
   "cell_type": "code",
   "execution_count": 19,
   "metadata": {},
   "outputs": [
    {
     "data": {
      "text/plain": [
       "<bound method IndexOpsMixin.tolist of Index(['subproperty_type', 'region', 'province', 'locality', 'state_building',\n",
       "       'epc'],\n",
       "      dtype='object')>"
      ]
     },
     "execution_count": 19,
     "metadata": {},
     "output_type": "execute_result"
    }
   ],
   "source": [
    "caterogical_columns = data_copy_no_outliers.select_dtypes(include=['object']).columns\n",
    "caterogical_columns.to_list"
   ]
  },
  {
   "cell_type": "code",
   "execution_count": 20,
   "metadata": {},
   "outputs": [
    {
     "data": {
      "text/plain": [
       "subproperty_type\n",
       "HOUSE        28613\n",
       "APARTMENT    28006\n",
       "Name: count, dtype: int64"
      ]
     },
     "execution_count": 20,
     "metadata": {},
     "output_type": "execute_result"
    }
   ],
   "source": [
    "data_copy_no_outliers['subproperty_type'].value_counts()"
   ]
  },
  {
   "cell_type": "code",
   "execution_count": 21,
   "metadata": {},
   "outputs": [
    {
     "data": {
      "text/plain": [
       "region\n",
       "Flanders            33553\n",
       "Wallonia            17900\n",
       "Brussels-Capital     5166\n",
       "Name: count, dtype: int64"
      ]
     },
     "execution_count": 21,
     "metadata": {},
     "output_type": "execute_result"
    }
   ],
   "source": [
    "data_copy_no_outliers['region'].value_counts()"
   ]
  },
  {
   "cell_type": "code",
   "execution_count": 22,
   "metadata": {},
   "outputs": [
    {
     "data": {
      "text/plain": [
       "province\n",
       "West Flanders      9357\n",
       "East Flanders      8574\n",
       "Antwerp            8134\n",
       "Hainaut            6612\n",
       "Liège              5183\n",
       "Brussels           5166\n",
       "Flemish Brabant    4781\n",
       "Limburg            2707\n",
       "Namur              2307\n",
       "Walloon Brabant    2049\n",
       "Luxembourg         1749\n",
       "Name: count, dtype: int64"
      ]
     },
     "execution_count": 22,
     "metadata": {},
     "output_type": "execute_result"
    }
   ],
   "source": [
    "data_copy_no_outliers['province'].value_counts()"
   ]
  },
  {
   "cell_type": "code",
   "execution_count": 23,
   "metadata": {},
   "outputs": [
    {
     "data": {
      "text/plain": [
       "locality\n",
       "Brussels             5166\n",
       "Antwerp              4386\n",
       "Liège                3447\n",
       "Brugge               2996\n",
       "Halle-Vilvoorde      2732\n",
       "Gent                 2651\n",
       "Turnhout             2428\n",
       "Oostend              2417\n",
       "Aalst                2195\n",
       "Leuven               2049\n",
       "Nivelles             2049\n",
       "Kortrijk             1880\n",
       "Charleroi            1764\n",
       "Hasselt              1641\n",
       "Namur                1641\n",
       "Sint-Niklaas         1418\n",
       "Mechelen             1320\n",
       "Veurne               1302\n",
       "Mons                 1255\n",
       "Dendermonde          1144\n",
       "Oudenaarde           1040\n",
       "Verviers              941\n",
       "Tournai               934\n",
       "Soignies              918\n",
       "Thuin                 621\n",
       "Mouscron              615\n",
       "Tongeren              543\n",
       "Maaseik               523\n",
       "Ath                   505\n",
       "Dinant                491\n",
       "Huy                   426\n",
       "Diksmuide             389\n",
       "Marche-en-Famenne     384\n",
       "Neufchâteau           384\n",
       "Arlon                 376\n",
       "Waremme               369\n",
       "Virton                319\n",
       "Bastogne              286\n",
       "Roeselare             230\n",
       "Philippeville         175\n",
       "Eeklo                 126\n",
       "Tielt                  99\n",
       "Ieper                  44\n",
       "Name: count, dtype: int64"
      ]
     },
     "execution_count": 23,
     "metadata": {},
     "output_type": "execute_result"
    }
   ],
   "source": [
    "data_copy_no_outliers['locality'].value_counts()"
   ]
  },
  {
   "cell_type": "code",
   "execution_count": 24,
   "metadata": {},
   "outputs": [
    {
     "data": {
      "text/plain": [
       "state_building\n",
       "MISSING           21142\n",
       "GOOD              16232\n",
       "AS_NEW            10140\n",
       "TO_RENOVATE        3944\n",
       "TO_BE_DONE_UP      3188\n",
       "JUST_RENOVATED     1730\n",
       "TO_RESTORE          243\n",
       "Name: count, dtype: int64"
      ]
     },
     "execution_count": 24,
     "metadata": {},
     "output_type": "execute_result"
    }
   ],
   "source": [
    "data_copy_no_outliers['state_building'].value_counts()"
   ]
  },
  {
   "cell_type": "code",
   "execution_count": 25,
   "metadata": {},
   "outputs": [
    {
     "name": "stderr",
     "output_type": "stream",
     "text": [
      "C:\\Users\\izama\\AppData\\Local\\Temp\\ipykernel_20056\\1124370006.py:19: FutureWarning: A value is trying to be set on a copy of a DataFrame or Series through chained assignment using an inplace method.\n",
      "The behavior will change in pandas 3.0. This inplace method will never work because the intermediate object on which we are setting values always behaves as a copy.\n",
      "\n",
      "For example, when doing 'df[col].method(value, inplace=True)', try using 'df.method({col: value}, inplace=True)' or df[col] = df[col].method(value) instead, to perform the operation inplace on the original object.\n",
      "\n",
      "\n",
      "  data_copy_no_outliers['state_building'].replace('MISSING', overall_mode, inplace=True)\n"
     ]
    }
   ],
   "source": [
    "# Group by the desired columns and find the most common state for each group\n",
    "state_building_fill = (\n",
    "    data_copy_no_outliers[data_copy_no_outliers['state_building'] != 'MISSING']  # Exclude 'MISSING' values\n",
    "    .groupby(['subproperty_type', 'locality', 'construction_year'])['state_building']\n",
    "    .agg(lambda x: x.mode().iloc[0] if not x.mode().empty else 'MISSING')\n",
    ")\n",
    "\n",
    "# Apply the most common state to rows with 'MISSING' in 'state_building'\n",
    "data_copy_no_outliers['state_building'] = data_copy_no_outliers.apply(\n",
    "    lambda row: state_building_fill.get((row['subproperty_type'], row['locality'], row['construction_year']),\n",
    "                                        row['state_building']) if row['state_building'] == 'MISSING' else row['state_building'],\n",
    "    axis=1\n",
    ")\n",
    "\n",
    "# Fill any remaining 'MISSING' values with the overall mode or drop them\n",
    "if 'MISSING' in data_copy_no_outliers['state_building'].values:\n",
    "    # Option 1: Fill with the overall mode of 'state_building'\n",
    "    overall_mode = data_copy_no_outliers['state_building'].mode().iloc[0]\n",
    "    data_copy_no_outliers['state_building'].replace('MISSING', overall_mode, inplace=True)\n",
    "    \n",
    "    # Option 2: Alternatively, drop rows where 'state_building' is still 'MISSING'\n",
    "    # data_copy_no_outliers = data_copy_no_outliers[data_copy_no_outliers['state_building'] != 'MISSING']"
   ]
  },
  {
   "cell_type": "code",
   "execution_count": 26,
   "metadata": {},
   "outputs": [
    {
     "data": {
      "text/plain": [
       "state_building\n",
       "GOOD              29739\n",
       "AS_NEW            17008\n",
       "TO_RENOVATE        4405\n",
       "TO_BE_DONE_UP      3437\n",
       "JUST_RENOVATED     1785\n",
       "TO_RESTORE          245\n",
       "Name: count, dtype: int64"
      ]
     },
     "execution_count": 26,
     "metadata": {},
     "output_type": "execute_result"
    }
   ],
   "source": [
    "data_copy_no_outliers['state_building'].value_counts()"
   ]
  },
  {
   "cell_type": "code",
   "execution_count": 27,
   "metadata": {},
   "outputs": [
    {
     "data": {
      "text/plain": [
       "epc\n",
       "MISSING    19033\n",
       "B           7422\n",
       "C           6148\n",
       "A           6020\n",
       "D           5343\n",
       "F           5091\n",
       "E           3988\n",
       "G           2426\n",
       "A+           708\n",
       "A++          440\n",
       "Name: count, dtype: int64"
      ]
     },
     "execution_count": 27,
     "metadata": {},
     "output_type": "execute_result"
    }
   ],
   "source": [
    "data_copy_no_outliers['epc'].value_counts()"
   ]
  },
  {
   "cell_type": "code",
   "execution_count": 28,
   "metadata": {},
   "outputs": [
    {
     "name": "stderr",
     "output_type": "stream",
     "text": [
      "C:\\Users\\izama\\AppData\\Local\\Temp\\ipykernel_20056\\2375558595.py:21: FutureWarning: A value is trying to be set on a copy of a DataFrame or Series through chained assignment using an inplace method.\n",
      "The behavior will change in pandas 3.0. This inplace method will never work because the intermediate object on which we are setting values always behaves as a copy.\n",
      "\n",
      "For example, when doing 'df[col].method(value, inplace=True)', try using 'df.method({col: value}, inplace=True)' or df[col] = df[col].method(value) instead, to perform the operation inplace on the original object.\n",
      "\n",
      "\n",
      "  data_copy_no_outliers['epc'].replace('MISSING', overall_mode_epc, inplace=True)\n"
     ]
    }
   ],
   "source": [
    "# Group by the desired columns and find the most common EPC rating for each group\n",
    "epc_fill = (\n",
    "    data_copy_no_outliers[data_copy_no_outliers['epc'] != 'MISSING']  # Exclude 'MISSING' values\n",
    "    .groupby(['subproperty_type', 'locality', 'construction_year'])['epc']\n",
    "    .agg(lambda x: x.mode().iloc[0] if not x.mode().empty else 'MISSING')\n",
    ")\n",
    "\n",
    "# Apply the most common EPC rating to rows with 'MISSING' in 'epc'\n",
    "data_copy_no_outliers['epc'] = data_copy_no_outliers.apply(\n",
    "    lambda row: epc_fill.get(\n",
    "        (row['subproperty_type'], row['locality'], row['construction_year']),\n",
    "        row['epc']\n",
    "    ) if row['epc'] == 'MISSING' else row['epc'],\n",
    "    axis=1\n",
    ")\n",
    "\n",
    "# Fill any remaining 'MISSING' values with the overall mode or drop them\n",
    "if 'MISSING' in data_copy_no_outliers['epc'].values:\n",
    "    # Option 1: Fill with the overall mode of 'epc'\n",
    "    overall_mode_epc = data_copy_no_outliers['epc'].mode().iloc[0]\n",
    "    data_copy_no_outliers['epc'].replace('MISSING', overall_mode_epc, inplace=True)\n",
    "    \n",
    "    # Option 2: Alternatively, drop rows where 'epc' is still 'MISSING'\n",
    "    # data_copy_no_outliers = data_copy_no_outliers[data_copy_no_outliers['epc'] != 'MISSING']\n"
   ]
  },
  {
   "cell_type": "code",
   "execution_count": 29,
   "metadata": {},
   "outputs": [
    {
     "data": {
      "text/plain": [
       "epc\n",
       "A      15862\n",
       "B      10405\n",
       "F       7907\n",
       "D       6519\n",
       "C       6480\n",
       "E       4467\n",
       "G       3137\n",
       "A+      1139\n",
       "A++      703\n",
       "Name: count, dtype: int64"
      ]
     },
     "execution_count": 29,
     "metadata": {},
     "output_type": "execute_result"
    }
   ],
   "source": [
    "data_copy_no_outliers['epc'].value_counts()"
   ]
  },
  {
   "cell_type": "code",
   "execution_count": 30,
   "metadata": {},
   "outputs": [
    {
     "name": "stdout",
     "output_type": "stream",
     "text": [
      "<class 'pandas.core.frame.DataFrame'>\n",
      "Index: 56619 entries, 0 to 75506\n",
      "Data columns (total 18 columns):\n",
      " #   Column             Non-Null Count  Dtype  \n",
      "---  ------             --------------  -----  \n",
      " 0   id                 56619 non-null  float64\n",
      " 1   price              56619 non-null  float64\n",
      " 2   subproperty_type   56619 non-null  object \n",
      " 3   region             56619 non-null  object \n",
      " 4   province           56619 non-null  object \n",
      " 5   locality           56619 non-null  object \n",
      " 6   zip_code           56619 non-null  float64\n",
      " 7   construction_year  56619 non-null  float64\n",
      " 8   total_area_sqm     56619 non-null  float64\n",
      " 9   surface_land_sqm   56619 non-null  float64\n",
      " 10  nbr_bedrooms       56619 non-null  float64\n",
      " 11  fl_open_fire       56619 non-null  float64\n",
      " 12  fl_terrace         56619 non-null  float64\n",
      " 13  fl_garden          56619 non-null  float64\n",
      " 14  garden_sqm         56619 non-null  float64\n",
      " 15  fl_swimming_pool   56619 non-null  float64\n",
      " 16  state_building     56619 non-null  object \n",
      " 17  epc                56619 non-null  object \n",
      "dtypes: float64(12), object(6)\n",
      "memory usage: 8.2+ MB\n"
     ]
    }
   ],
   "source": [
    "data_copy_no_outliers.info()"
   ]
  },
  {
   "cell_type": "markdown",
   "metadata": {},
   "source": [
    "<p span style=\"color:#ADD8E6; font-size:30px\">\n",
    "<i>Encoding categorical columns</i>  \n",
    "</p>  "
   ]
  },
  {
   "cell_type": "code",
   "execution_count": 31,
   "metadata": {},
   "outputs": [],
   "source": [
    "# Mapping subproperty_type to numeric values\n",
    "subproperty_mapping = {\n",
    "    'HOUSE': 0,\n",
    "    'APARTMENT': 1\n",
    "}\n",
    "\n",
    "# Adding a new column to data_cleaned\n",
    "data_copy_no_outliers['subproperty_type_encoded'] = data_copy_no_outliers['subproperty_type'].map(subproperty_mapping)\n",
    "\n",
    "# Ensure that 'subproperty_type_encoded' is numeric\n",
    "data_copy_no_outliers['subproperty_type_encoded'] = data_copy_no_outliers['subproperty_type_encoded'].astype('int', errors='ignore')\n"
   ]
  },
  {
   "cell_type": "code",
   "execution_count": 32,
   "metadata": {},
   "outputs": [
    {
     "name": "stdout",
     "output_type": "stream",
     "text": [
      "<class 'pandas.core.frame.DataFrame'>\n",
      "Index: 56619 entries, 0 to 75506\n",
      "Data columns (total 19 columns):\n",
      " #   Column                    Non-Null Count  Dtype  \n",
      "---  ------                    --------------  -----  \n",
      " 0   id                        56619 non-null  float64\n",
      " 1   price                     56619 non-null  float64\n",
      " 2   subproperty_type          56619 non-null  object \n",
      " 3   region                    56619 non-null  object \n",
      " 4   province                  56619 non-null  object \n",
      " 5   locality                  56619 non-null  object \n",
      " 6   zip_code                  56619 non-null  float64\n",
      " 7   construction_year         56619 non-null  float64\n",
      " 8   total_area_sqm            56619 non-null  float64\n",
      " 9   surface_land_sqm          56619 non-null  float64\n",
      " 10  nbr_bedrooms              56619 non-null  float64\n",
      " 11  fl_open_fire              56619 non-null  float64\n",
      " 12  fl_terrace                56619 non-null  float64\n",
      " 13  fl_garden                 56619 non-null  float64\n",
      " 14  garden_sqm                56619 non-null  float64\n",
      " 15  fl_swimming_pool          56619 non-null  float64\n",
      " 16  state_building            56619 non-null  object \n",
      " 17  epc                       56619 non-null  object \n",
      " 18  subproperty_type_encoded  56619 non-null  int32  \n",
      "dtypes: float64(12), int32(1), object(6)\n",
      "memory usage: 8.4+ MB\n"
     ]
    }
   ],
   "source": [
    "data_copy_no_outliers.info()"
   ]
  },
  {
   "cell_type": "code",
   "execution_count": 33,
   "metadata": {},
   "outputs": [],
   "source": [
    "# Mapping region to numeric values\n",
    "region_mapping = {\n",
    "    'Flanders': 0,\n",
    "    'Wallonia': 1,\n",
    "    'Brussels-Capital':2\n",
    "}\n",
    "\n",
    "# Adding a new column to data_cleaned\n",
    "data_copy_no_outliers['region_encoded'] = data_copy_no_outliers['region'].map(region_mapping)"
   ]
  },
  {
   "cell_type": "code",
   "execution_count": 34,
   "metadata": {},
   "outputs": [
    {
     "name": "stdout",
     "output_type": "stream",
     "text": [
      "<class 'pandas.core.frame.DataFrame'>\n",
      "Index: 56619 entries, 0 to 75506\n",
      "Data columns (total 20 columns):\n",
      " #   Column                    Non-Null Count  Dtype  \n",
      "---  ------                    --------------  -----  \n",
      " 0   id                        56619 non-null  float64\n",
      " 1   price                     56619 non-null  float64\n",
      " 2   subproperty_type          56619 non-null  object \n",
      " 3   region                    56619 non-null  object \n",
      " 4   province                  56619 non-null  object \n",
      " 5   locality                  56619 non-null  object \n",
      " 6   zip_code                  56619 non-null  float64\n",
      " 7   construction_year         56619 non-null  float64\n",
      " 8   total_area_sqm            56619 non-null  float64\n",
      " 9   surface_land_sqm          56619 non-null  float64\n",
      " 10  nbr_bedrooms              56619 non-null  float64\n",
      " 11  fl_open_fire              56619 non-null  float64\n",
      " 12  fl_terrace                56619 non-null  float64\n",
      " 13  fl_garden                 56619 non-null  float64\n",
      " 14  garden_sqm                56619 non-null  float64\n",
      " 15  fl_swimming_pool          56619 non-null  float64\n",
      " 16  state_building            56619 non-null  object \n",
      " 17  epc                       56619 non-null  object \n",
      " 18  subproperty_type_encoded  56619 non-null  int32  \n",
      " 19  region_encoded            56619 non-null  int64  \n",
      "dtypes: float64(12), int32(1), int64(1), object(6)\n",
      "memory usage: 8.9+ MB\n"
     ]
    }
   ],
   "source": [
    "data_copy_no_outliers.info()"
   ]
  },
  {
   "cell_type": "code",
   "execution_count": 35,
   "metadata": {},
   "outputs": [],
   "source": [
    "# Mapping epc to numeric values\n",
    "epc_mapping = {\n",
    "    'A++': 0,\n",
    "    'A+': 1,\n",
    "    'A': 2,\n",
    "    'B': 3,\n",
    "    'C': 4,\n",
    "    'D': 5,\n",
    "    'E': 6,\n",
    "    'F': 7,\n",
    "    'E': 8,\n",
    "    'G': 9\n",
    "}\n",
    "\n",
    "# Adding a new column to data_cleaned\n",
    "data_copy_no_outliers['epc_encoded'] = data_copy_no_outliers['epc'].map(epc_mapping)\n"
   ]
  },
  {
   "cell_type": "code",
   "execution_count": 36,
   "metadata": {},
   "outputs": [
    {
     "name": "stdout",
     "output_type": "stream",
     "text": [
      "<class 'pandas.core.frame.DataFrame'>\n",
      "Index: 56619 entries, 0 to 75506\n",
      "Data columns (total 21 columns):\n",
      " #   Column                    Non-Null Count  Dtype  \n",
      "---  ------                    --------------  -----  \n",
      " 0   id                        56619 non-null  float64\n",
      " 1   price                     56619 non-null  float64\n",
      " 2   subproperty_type          56619 non-null  object \n",
      " 3   region                    56619 non-null  object \n",
      " 4   province                  56619 non-null  object \n",
      " 5   locality                  56619 non-null  object \n",
      " 6   zip_code                  56619 non-null  float64\n",
      " 7   construction_year         56619 non-null  float64\n",
      " 8   total_area_sqm            56619 non-null  float64\n",
      " 9   surface_land_sqm          56619 non-null  float64\n",
      " 10  nbr_bedrooms              56619 non-null  float64\n",
      " 11  fl_open_fire              56619 non-null  float64\n",
      " 12  fl_terrace                56619 non-null  float64\n",
      " 13  fl_garden                 56619 non-null  float64\n",
      " 14  garden_sqm                56619 non-null  float64\n",
      " 15  fl_swimming_pool          56619 non-null  float64\n",
      " 16  state_building            56619 non-null  object \n",
      " 17  epc                       56619 non-null  object \n",
      " 18  subproperty_type_encoded  56619 non-null  int32  \n",
      " 19  region_encoded            56619 non-null  int64  \n",
      " 20  epc_encoded               56619 non-null  int64  \n",
      "dtypes: float64(12), int32(1), int64(2), object(6)\n",
      "memory usage: 9.3+ MB\n"
     ]
    }
   ],
   "source": [
    "data_copy_no_outliers.info()"
   ]
  },
  {
   "cell_type": "code",
   "execution_count": 37,
   "metadata": {},
   "outputs": [
    {
     "data": {
      "text/plain": [
       "state_building\n",
       "GOOD              29739\n",
       "AS_NEW            17008\n",
       "TO_RENOVATE        4405\n",
       "TO_BE_DONE_UP      3437\n",
       "JUST_RENOVATED     1785\n",
       "TO_RESTORE          245\n",
       "Name: count, dtype: int64"
      ]
     },
     "execution_count": 37,
     "metadata": {},
     "output_type": "execute_result"
    }
   ],
   "source": [
    "data_copy_no_outliers['state_building'].value_counts()"
   ]
  },
  {
   "cell_type": "code",
   "execution_count": 38,
   "metadata": {},
   "outputs": [],
   "source": [
    "# Mapping state_building to numeric values\n",
    "state_mapping = {\n",
    "    'AS_NEW': 0,\n",
    "    'JUST_RENOVATED': 0,\n",
    "    'GOOD': 1,\n",
    "    'TO_RENOVATE': 2,\n",
    "    'TO_RESTORE': 4,\n",
    "    'TO_BE_DONE_UP': 5\n",
    "    }\n",
    "\n",
    "# Adding a new column to data_cleaned\n",
    "data_copy_no_outliers['state_encoded'] = data_copy_no_outliers['state_building'].map(state_mapping)\n"
   ]
  },
  {
   "cell_type": "code",
   "execution_count": 39,
   "metadata": {},
   "outputs": [
    {
     "data": {
      "text/plain": [
       "state_encoded\n",
       "1    29739\n",
       "0    18793\n",
       "2     4405\n",
       "5     3437\n",
       "4      245\n",
       "Name: count, dtype: int64"
      ]
     },
     "execution_count": 39,
     "metadata": {},
     "output_type": "execute_result"
    }
   ],
   "source": [
    "data_copy_no_outliers['state_encoded'].value_counts()"
   ]
  },
  {
   "cell_type": "code",
   "execution_count": 40,
   "metadata": {},
   "outputs": [
    {
     "name": "stdout",
     "output_type": "stream",
     "text": [
      "           id     price subproperty_type            region         province  \\\n",
      "0  34221000.0  225000.0        APARTMENT          Flanders          Antwerp   \n",
      "1   2104000.0  449000.0            HOUSE          Flanders    East Flanders   \n",
      "2  34036000.0  335000.0        APARTMENT  Brussels-Capital         Brussels   \n",
      "3  58496000.0  501000.0            HOUSE          Flanders          Antwerp   \n",
      "5  22183000.0  548514.0            HOUSE          Flanders  Flemish Brabant   \n",
      "\n",
      "          locality  zip_code  construction_year  total_area_sqm  \\\n",
      "0          Antwerp    2050.0             1963.0           100.0   \n",
      "1             Gent    9185.0             2001.0           166.0   \n",
      "2         Brussels    1070.0             1975.0           142.0   \n",
      "3         Turnhout    2275.0             2024.0           187.0   \n",
      "5  Halle-Vilvoorde    1700.0             1967.0           187.0   \n",
      "\n",
      "   surface_land_sqm  nbr_bedrooms  fl_open_fire  fl_terrace  fl_garden  \\\n",
      "0               0.0           2.0           0.0         1.0        0.0   \n",
      "1             680.0           2.0           0.0         0.0        0.0   \n",
      "2               0.0           3.0           0.0         1.0        0.0   \n",
      "3             505.0           3.0           0.0         0.0        0.0   \n",
      "5             710.0           3.0           0.0         0.0        0.0   \n",
      "\n",
      "   garden_sqm  fl_swimming_pool state_building epc  subproperty_type_encoded  \\\n",
      "0         0.0               0.0           GOOD   C                         1   \n",
      "1         0.0               0.0           GOOD   C                         0   \n",
      "2         0.0               0.0         AS_NEW   D                         1   \n",
      "3         0.0               0.0         AS_NEW   A                         0   \n",
      "5         0.0               0.0         AS_NEW   F                         0   \n",
      "\n",
      "   region_encoded  epc_encoded  state_encoded  zip_code_encoded_zip_code_0  \\\n",
      "0               0            4              1                            0   \n",
      "1               0            4              1                            0   \n",
      "2               2            5              0                            0   \n",
      "3               0            2              0                            0   \n",
      "5               0            7              0                            0   \n",
      "\n",
      "   zip_code_encoded_zip_code_1  zip_code_encoded_zip_code_2  \\\n",
      "0                            0                            0   \n",
      "1                            0                            0   \n",
      "2                            0                            0   \n",
      "3                            0                            0   \n",
      "5                            0                            0   \n",
      "\n",
      "   zip_code_encoded_zip_code_3  zip_code_encoded_zip_code_4  \\\n",
      "0                            0                            0   \n",
      "1                            0                            0   \n",
      "2                            0                            0   \n",
      "3                            0                            0   \n",
      "5                            0                            0   \n",
      "\n",
      "   zip_code_encoded_zip_code_5  zip_code_encoded_zip_code_6  \\\n",
      "0                            0                            0   \n",
      "1                            0                            0   \n",
      "2                            0                            0   \n",
      "3                            0                            0   \n",
      "5                            0                            0   \n",
      "\n",
      "   zip_code_encoded_zip_code_7  zip_code_encoded_zip_code_8  \\\n",
      "0                            0                            0   \n",
      "1                            0                            0   \n",
      "2                            0                            0   \n",
      "3                            0                            1   \n",
      "5                            0                            1   \n",
      "\n",
      "   zip_code_encoded_zip_code_9  zip_code_encoded_zip_code_10  \n",
      "0                            0                             1  \n",
      "1                            1                             0  \n",
      "2                            1                             1  \n",
      "3                            0                             0  \n",
      "5                            0                             1  \n"
     ]
    }
   ],
   "source": [
    "import category_encoders as ce\n",
    "import pandas as pd\n",
    "\n",
    "# Remove all columns starting with 'zip_code_encoded'\n",
    "data_copy_no_outliers = data_copy_no_outliers.drop(\n",
    "    columns=[col for col in data_copy_no_outliers.columns if col.startswith('zip_code_encoded')],\n",
    "    errors='ignore'\n",
    ")\n",
    "\n",
    "# Initialize the binary encoder for 'zip_code'\n",
    "encoder = ce.BinaryEncoder(cols=['zip_code'])\n",
    "\n",
    "# Perform binary encoding and rename columns with a prefix to avoid duplication\n",
    "zip_code_encoded = encoder.fit_transform(data_copy_no_outliers[['zip_code']]).add_prefix('zip_code_encoded_')\n",
    "\n",
    "# Concatenate the original DataFrame with the new binary-encoded columns\n",
    "data_copy_no_outliers = pd.concat([data_copy_no_outliers, zip_code_encoded], axis=1)\n",
    "\n",
    "# Display the updated DataFrame structure to confirm only one set of encoded columns\n",
    "print(data_copy_no_outliers.head())\n"
   ]
  },
  {
   "cell_type": "code",
   "execution_count": 41,
   "metadata": {},
   "outputs": [
    {
     "name": "stdout",
     "output_type": "stream",
     "text": [
      "<class 'pandas.core.frame.DataFrame'>\n",
      "Index: 56619 entries, 0 to 75506\n",
      "Data columns (total 33 columns):\n",
      " #   Column                        Non-Null Count  Dtype  \n",
      "---  ------                        --------------  -----  \n",
      " 0   id                            56619 non-null  float64\n",
      " 1   price                         56619 non-null  float64\n",
      " 2   subproperty_type              56619 non-null  object \n",
      " 3   region                        56619 non-null  object \n",
      " 4   province                      56619 non-null  object \n",
      " 5   locality                      56619 non-null  object \n",
      " 6   zip_code                      56619 non-null  float64\n",
      " 7   construction_year             56619 non-null  float64\n",
      " 8   total_area_sqm                56619 non-null  float64\n",
      " 9   surface_land_sqm              56619 non-null  float64\n",
      " 10  nbr_bedrooms                  56619 non-null  float64\n",
      " 11  fl_open_fire                  56619 non-null  float64\n",
      " 12  fl_terrace                    56619 non-null  float64\n",
      " 13  fl_garden                     56619 non-null  float64\n",
      " 14  garden_sqm                    56619 non-null  float64\n",
      " 15  fl_swimming_pool              56619 non-null  float64\n",
      " 16  state_building                56619 non-null  object \n",
      " 17  epc                           56619 non-null  object \n",
      " 18  subproperty_type_encoded      56619 non-null  int32  \n",
      " 19  region_encoded                56619 non-null  int64  \n",
      " 20  epc_encoded                   56619 non-null  int64  \n",
      " 21  state_encoded                 56619 non-null  int64  \n",
      " 22  zip_code_encoded_zip_code_0   56619 non-null  int64  \n",
      " 23  zip_code_encoded_zip_code_1   56619 non-null  int64  \n",
      " 24  zip_code_encoded_zip_code_2   56619 non-null  int64  \n",
      " 25  zip_code_encoded_zip_code_3   56619 non-null  int64  \n",
      " 26  zip_code_encoded_zip_code_4   56619 non-null  int64  \n",
      " 27  zip_code_encoded_zip_code_5   56619 non-null  int64  \n",
      " 28  zip_code_encoded_zip_code_6   56619 non-null  int64  \n",
      " 29  zip_code_encoded_zip_code_7   56619 non-null  int64  \n",
      " 30  zip_code_encoded_zip_code_8   56619 non-null  int64  \n",
      " 31  zip_code_encoded_zip_code_9   56619 non-null  int64  \n",
      " 32  zip_code_encoded_zip_code_10  56619 non-null  int64  \n",
      "dtypes: float64(12), int32(1), int64(14), object(6)\n",
      "memory usage: 14.5+ MB\n"
     ]
    }
   ],
   "source": [
    "data_copy_no_outliers.info()"
   ]
  },
  {
   "cell_type": "code",
   "execution_count": 42,
   "metadata": {},
   "outputs": [
    {
     "name": "stdout",
     "output_type": "stream",
     "text": [
      "           id     price subproperty_type            region         province  \\\n",
      "0  34221000.0  225000.0        APARTMENT          Flanders          Antwerp   \n",
      "1   2104000.0  449000.0            HOUSE          Flanders    East Flanders   \n",
      "2  34036000.0  335000.0        APARTMENT  Brussels-Capital         Brussels   \n",
      "3  58496000.0  501000.0            HOUSE          Flanders          Antwerp   \n",
      "5  22183000.0  548514.0            HOUSE          Flanders  Flemish Brabant   \n",
      "\n",
      "   zip_code  construction_year  total_area_sqm  surface_land_sqm  \\\n",
      "0    2050.0             1963.0           100.0               0.0   \n",
      "1    9185.0             2001.0           166.0             680.0   \n",
      "2    1070.0             1975.0           142.0               0.0   \n",
      "3    2275.0             2024.0           187.0             505.0   \n",
      "5    1700.0             1967.0           187.0             710.0   \n",
      "\n",
      "   nbr_bedrooms  fl_open_fire  fl_terrace  fl_garden  garden_sqm  \\\n",
      "0           2.0           0.0         1.0        0.0         0.0   \n",
      "1           2.0           0.0         0.0        0.0         0.0   \n",
      "2           3.0           0.0         1.0        0.0         0.0   \n",
      "3           3.0           0.0         0.0        0.0         0.0   \n",
      "5           3.0           0.0         0.0        0.0         0.0   \n",
      "\n",
      "   fl_swimming_pool state_building epc  subproperty_type_encoded  \\\n",
      "0               0.0           GOOD   C                         1   \n",
      "1               0.0           GOOD   C                         0   \n",
      "2               0.0         AS_NEW   D                         1   \n",
      "3               0.0         AS_NEW   A                         0   \n",
      "5               0.0         AS_NEW   F                         0   \n",
      "\n",
      "   region_encoded  epc_encoded  state_encoded  zip_code_encoded_zip_code_0  \\\n",
      "0               0            4              1                            0   \n",
      "1               0            4              1                            0   \n",
      "2               2            5              0                            0   \n",
      "3               0            2              0                            0   \n",
      "5               0            7              0                            0   \n",
      "\n",
      "   zip_code_encoded_zip_code_1  zip_code_encoded_zip_code_2  \\\n",
      "0                            0                            0   \n",
      "1                            0                            0   \n",
      "2                            0                            0   \n",
      "3                            0                            0   \n",
      "5                            0                            0   \n",
      "\n",
      "   zip_code_encoded_zip_code_3  zip_code_encoded_zip_code_4  \\\n",
      "0                            0                            0   \n",
      "1                            0                            0   \n",
      "2                            0                            0   \n",
      "3                            0                            0   \n",
      "5                            0                            0   \n",
      "\n",
      "   zip_code_encoded_zip_code_5  zip_code_encoded_zip_code_6  \\\n",
      "0                            0                            0   \n",
      "1                            0                            0   \n",
      "2                            0                            0   \n",
      "3                            0                            0   \n",
      "5                            0                            0   \n",
      "\n",
      "   zip_code_encoded_zip_code_7  zip_code_encoded_zip_code_8  \\\n",
      "0                            0                            0   \n",
      "1                            0                            0   \n",
      "2                            0                            0   \n",
      "3                            0                            1   \n",
      "5                            0                            1   \n",
      "\n",
      "   zip_code_encoded_zip_code_9  zip_code_encoded_zip_code_10  \\\n",
      "0                            0                             1   \n",
      "1                            1                             0   \n",
      "2                            1                             1   \n",
      "3                            0                             0   \n",
      "5                            0                             1   \n",
      "\n",
      "   locality_encoded_locality_0  locality_encoded_locality_1  \\\n",
      "0                            0                            0   \n",
      "1                            0                            0   \n",
      "2                            0                            0   \n",
      "3                            0                            0   \n",
      "5                            0                            0   \n",
      "\n",
      "   locality_encoded_locality_2  locality_encoded_locality_3  \\\n",
      "0                            0                            0   \n",
      "1                            0                            0   \n",
      "2                            0                            0   \n",
      "3                            0                            1   \n",
      "5                            0                            1   \n",
      "\n",
      "   locality_encoded_locality_4  locality_encoded_locality_5  \n",
      "0                            0                            1  \n",
      "1                            1                            0  \n",
      "2                            1                            1  \n",
      "3                            0                            0  \n",
      "5                            0                            1  \n"
     ]
    }
   ],
   "source": [
    "import category_encoders as ce\n",
    "import pandas as pd\n",
    "\n",
    "# Initialize the binary encoder for 'locality'\n",
    "encoder = ce.BinaryEncoder(cols=['locality'])\n",
    "\n",
    "# Apply binary encoding and add a prefix to avoid column name collisions\n",
    "locality_encoded = encoder.fit_transform(data_copy_no_outliers[['locality']]).add_prefix('locality_encoded_')\n",
    "\n",
    "# Concatenate the original DataFrame with the binary-encoded columns\n",
    "data_copy_no_outliers = pd.concat([data_copy_no_outliers, locality_encoded], axis=1)\n",
    "\n",
    "# Drop the original 'locality' column if it’s no longer needed\n",
    "data_copy_no_outliers = data_copy_no_outliers.drop(columns=['locality'], errors='ignore')\n",
    "\n",
    "# Check the updated DataFrame\n",
    "print(data_copy_no_outliers.head())\n"
   ]
  },
  {
   "cell_type": "code",
   "execution_count": 43,
   "metadata": {},
   "outputs": [
    {
     "name": "stdout",
     "output_type": "stream",
     "text": [
      "<class 'pandas.core.frame.DataFrame'>\n",
      "Index: 56619 entries, 0 to 75506\n",
      "Data columns (total 38 columns):\n",
      " #   Column                        Non-Null Count  Dtype  \n",
      "---  ------                        --------------  -----  \n",
      " 0   id                            56619 non-null  float64\n",
      " 1   price                         56619 non-null  float64\n",
      " 2   subproperty_type              56619 non-null  object \n",
      " 3   region                        56619 non-null  object \n",
      " 4   province                      56619 non-null  object \n",
      " 5   zip_code                      56619 non-null  float64\n",
      " 6   construction_year             56619 non-null  float64\n",
      " 7   total_area_sqm                56619 non-null  float64\n",
      " 8   surface_land_sqm              56619 non-null  float64\n",
      " 9   nbr_bedrooms                  56619 non-null  float64\n",
      " 10  fl_open_fire                  56619 non-null  float64\n",
      " 11  fl_terrace                    56619 non-null  float64\n",
      " 12  fl_garden                     56619 non-null  float64\n",
      " 13  garden_sqm                    56619 non-null  float64\n",
      " 14  fl_swimming_pool              56619 non-null  float64\n",
      " 15  state_building                56619 non-null  object \n",
      " 16  epc                           56619 non-null  object \n",
      " 17  subproperty_type_encoded      56619 non-null  int32  \n",
      " 18  region_encoded                56619 non-null  int64  \n",
      " 19  epc_encoded                   56619 non-null  int64  \n",
      " 20  state_encoded                 56619 non-null  int64  \n",
      " 21  zip_code_encoded_zip_code_0   56619 non-null  int64  \n",
      " 22  zip_code_encoded_zip_code_1   56619 non-null  int64  \n",
      " 23  zip_code_encoded_zip_code_2   56619 non-null  int64  \n",
      " 24  zip_code_encoded_zip_code_3   56619 non-null  int64  \n",
      " 25  zip_code_encoded_zip_code_4   56619 non-null  int64  \n",
      " 26  zip_code_encoded_zip_code_5   56619 non-null  int64  \n",
      " 27  zip_code_encoded_zip_code_6   56619 non-null  int64  \n",
      " 28  zip_code_encoded_zip_code_7   56619 non-null  int64  \n",
      " 29  zip_code_encoded_zip_code_8   56619 non-null  int64  \n",
      " 30  zip_code_encoded_zip_code_9   56619 non-null  int64  \n",
      " 31  zip_code_encoded_zip_code_10  56619 non-null  int64  \n",
      " 32  locality_encoded_locality_0   56619 non-null  int64  \n",
      " 33  locality_encoded_locality_1   56619 non-null  int64  \n",
      " 34  locality_encoded_locality_2   56619 non-null  int64  \n",
      " 35  locality_encoded_locality_3   56619 non-null  int64  \n",
      " 36  locality_encoded_locality_4   56619 non-null  int64  \n",
      " 37  locality_encoded_locality_5   56619 non-null  int64  \n",
      "dtypes: float64(12), int32(1), int64(20), object(5)\n",
      "memory usage: 16.6+ MB\n"
     ]
    }
   ],
   "source": [
    "data_copy_no_outliers.info()"
   ]
  },
  {
   "cell_type": "code",
   "execution_count": 44,
   "metadata": {},
   "outputs": [],
   "source": [
    "# Manual mapping for 'province'\n",
    "province_mapping = {\n",
    "    'West Flanders': 0,\n",
    "    'East Flanders': 1,\n",
    "    'Antwerp': 2,\n",
    "    'Hainaut': 3,\n",
    "    'Liège': 4,\n",
    "    'Brussels': 5,\n",
    "    'Flemish Brabant': 6,\n",
    "    'Limburg': 7,\n",
    "    'Namur': 8,\n",
    "    'Walloon Brabant': 9,\n",
    "    'Luxembourg': 10\n",
    "}\n",
    "\n",
    "# Map the 'province' column\n",
    "data_copy_no_outliers['province_encoded'] = data_copy_no_outliers['province'].map(province_mapping)\n"
   ]
  },
  {
   "cell_type": "code",
   "execution_count": 45,
   "metadata": {},
   "outputs": [
    {
     "name": "stdout",
     "output_type": "stream",
     "text": [
      "<class 'pandas.core.frame.DataFrame'>\n",
      "Index: 56619 entries, 0 to 75506\n",
      "Data columns (total 39 columns):\n",
      " #   Column                        Non-Null Count  Dtype  \n",
      "---  ------                        --------------  -----  \n",
      " 0   id                            56619 non-null  float64\n",
      " 1   price                         56619 non-null  float64\n",
      " 2   subproperty_type              56619 non-null  object \n",
      " 3   region                        56619 non-null  object \n",
      " 4   province                      56619 non-null  object \n",
      " 5   zip_code                      56619 non-null  float64\n",
      " 6   construction_year             56619 non-null  float64\n",
      " 7   total_area_sqm                56619 non-null  float64\n",
      " 8   surface_land_sqm              56619 non-null  float64\n",
      " 9   nbr_bedrooms                  56619 non-null  float64\n",
      " 10  fl_open_fire                  56619 non-null  float64\n",
      " 11  fl_terrace                    56619 non-null  float64\n",
      " 12  fl_garden                     56619 non-null  float64\n",
      " 13  garden_sqm                    56619 non-null  float64\n",
      " 14  fl_swimming_pool              56619 non-null  float64\n",
      " 15  state_building                56619 non-null  object \n",
      " 16  epc                           56619 non-null  object \n",
      " 17  subproperty_type_encoded      56619 non-null  int32  \n",
      " 18  region_encoded                56619 non-null  int64  \n",
      " 19  epc_encoded                   56619 non-null  int64  \n",
      " 20  state_encoded                 56619 non-null  int64  \n",
      " 21  zip_code_encoded_zip_code_0   56619 non-null  int64  \n",
      " 22  zip_code_encoded_zip_code_1   56619 non-null  int64  \n",
      " 23  zip_code_encoded_zip_code_2   56619 non-null  int64  \n",
      " 24  zip_code_encoded_zip_code_3   56619 non-null  int64  \n",
      " 25  zip_code_encoded_zip_code_4   56619 non-null  int64  \n",
      " 26  zip_code_encoded_zip_code_5   56619 non-null  int64  \n",
      " 27  zip_code_encoded_zip_code_6   56619 non-null  int64  \n",
      " 28  zip_code_encoded_zip_code_7   56619 non-null  int64  \n",
      " 29  zip_code_encoded_zip_code_8   56619 non-null  int64  \n",
      " 30  zip_code_encoded_zip_code_9   56619 non-null  int64  \n",
      " 31  zip_code_encoded_zip_code_10  56619 non-null  int64  \n",
      " 32  locality_encoded_locality_0   56619 non-null  int64  \n",
      " 33  locality_encoded_locality_1   56619 non-null  int64  \n",
      " 34  locality_encoded_locality_2   56619 non-null  int64  \n",
      " 35  locality_encoded_locality_3   56619 non-null  int64  \n",
      " 36  locality_encoded_locality_4   56619 non-null  int64  \n",
      " 37  locality_encoded_locality_5   56619 non-null  int64  \n",
      " 38  province_encoded              56619 non-null  int64  \n",
      "dtypes: float64(12), int32(1), int64(21), object(5)\n",
      "memory usage: 17.1+ MB\n"
     ]
    }
   ],
   "source": [
    "data_copy_no_outliers.info()"
   ]
  },
  {
   "cell_type": "code",
   "execution_count": 46,
   "metadata": {},
   "outputs": [
    {
     "name": "stdout",
     "output_type": "stream",
     "text": [
      "Data has been saved to: C:\\Users\\izama\\Desktop\\machine learning\\data\\data_preprocessed.csv\n"
     ]
    }
   ],
   "source": [
    "# Columns to keep in the new DataFrame\n",
    "columns_to_keep = [\n",
    "    'price',\n",
    "    'zip_code',\n",
    "    'construction_year',\n",
    "    'total_area_sqm',\n",
    "    'surface_land_sqm',\n",
    "    'nbr_bedrooms',\n",
    "    'fl_open_fire',\n",
    "    'fl_terrace',\n",
    "    'fl_garden',\n",
    "    'garden_sqm',\n",
    "    'fl_swimming_pool',\n",
    "    'subproperty_type_encoded',\n",
    "    'region_encoded',\n",
    "    'epc_encoded',\n",
    "    'state_encoded',\n",
    "    'province_encoded'\n",
    "]\n",
    "\n",
    "# Create a new DataFrame with the selected columns\n",
    "data_preprocessed = data_copy_no_outliers[columns_to_keep]\n",
    "\n",
    "# Save the DataFrame to the specified location\n",
    "output_path = r'C:\\Users\\izama\\Desktop\\machine learning\\data\\data_preprocessed.csv'\n",
    "data_preprocessed.to_csv(output_path, index=False)\n",
    "\n",
    "print(f'Data has been saved to: {output_path}')\n"
   ]
  },
  {
   "cell_type": "code",
   "execution_count": 47,
   "metadata": {},
   "outputs": [
    {
     "name": "stdout",
     "output_type": "stream",
     "text": [
      "<class 'pandas.core.frame.DataFrame'>\n",
      "Index: 56619 entries, 0 to 75506\n",
      "Data columns (total 16 columns):\n",
      " #   Column                    Non-Null Count  Dtype  \n",
      "---  ------                    --------------  -----  \n",
      " 0   price                     56619 non-null  float64\n",
      " 1   zip_code                  56619 non-null  float64\n",
      " 2   construction_year         56619 non-null  float64\n",
      " 3   total_area_sqm            56619 non-null  float64\n",
      " 4   surface_land_sqm          56619 non-null  float64\n",
      " 5   nbr_bedrooms              56619 non-null  float64\n",
      " 6   fl_open_fire              56619 non-null  float64\n",
      " 7   fl_terrace                56619 non-null  float64\n",
      " 8   fl_garden                 56619 non-null  float64\n",
      " 9   garden_sqm                56619 non-null  float64\n",
      " 10  fl_swimming_pool          56619 non-null  float64\n",
      " 11  subproperty_type_encoded  56619 non-null  int32  \n",
      " 12  region_encoded            56619 non-null  int64  \n",
      " 13  epc_encoded               56619 non-null  int64  \n",
      " 14  state_encoded             56619 non-null  int64  \n",
      " 15  province_encoded          56619 non-null  int64  \n",
      "dtypes: float64(11), int32(1), int64(4)\n",
      "memory usage: 7.1 MB\n"
     ]
    }
   ],
   "source": [
    "data_preprocessed.info()"
   ]
  },
  {
   "cell_type": "code",
   "execution_count": null,
   "metadata": {},
   "outputs": [
    {
     "name": "stdout",
     "output_type": "stream",
     "text": [
      "Mean of price: 345582.74354898534, Std of price: 171005.6913476945\n"
     ]
    }
   ],
   "source": [
    "# Calculate the mean and std of the 'price' column\n",
    "price_mean = data_preprocessed['price'].mean()\n",
    "price_std = data_preprocessed['price'].std()\n",
    "\n",
    "# Save to JSON file\n",
    "stats = {\n",
    "    \"price_mean\": price_mean,\n",
    "    \"price_std\": price_std\n",
    "}\n",
    "\n",
    "with open(r'C:\\Users\\izama\\Desktop\\machine learning\\scripts\\price_stats.json', \"w\") as f:\n",
    "    json.dump(stats, f)\n",
    "\n",
    "print(f\"Mean of price: {price_mean}, Std of price: {price_std}\")\n"
   ]
  },
  {
   "cell_type": "code",
   "execution_count": 47,
   "metadata": {},
   "outputs": [
    {
     "name": "stdout",
     "output_type": "stream",
     "text": [
      "Initial DataFrame:\n",
      "      price  zip_code  construction_year  total_area_sqm  surface_land_sqm  \\\n",
      "0  225000.0    2050.0             1963.0           100.0               0.0   \n",
      "1  449000.0    9185.0             2001.0           166.0             680.0   \n",
      "2  335000.0    1070.0             1975.0           142.0               0.0   \n",
      "3  501000.0    2275.0             2024.0           187.0             505.0   \n",
      "4  548514.0    1700.0             1967.0           187.0             710.0   \n",
      "\n",
      "   nbr_bedrooms  fl_open_fire  fl_terrace  fl_garden  garden_sqm  \\\n",
      "0           2.0           0.0         1.0        0.0         0.0   \n",
      "1           2.0           0.0         0.0        0.0         0.0   \n",
      "2           3.0           0.0         1.0        0.0         0.0   \n",
      "3           3.0           0.0         0.0        0.0         0.0   \n",
      "4           3.0           0.0         0.0        0.0         0.0   \n",
      "\n",
      "   fl_swimming_pool  subproperty_type_encoded  region_encoded  epc_encoded  \\\n",
      "0               0.0                         1               0            4   \n",
      "1               0.0                         0               0            4   \n",
      "2               0.0                         1               2            5   \n",
      "3               0.0                         0               0            2   \n",
      "4               0.0                         0               0            7   \n",
      "\n",
      "   state_encoded  province_encoded  \n",
      "0              1                 2  \n",
      "1              1                 1  \n",
      "2              0                 5  \n",
      "3              0                 2  \n",
      "4              0                 6  \n",
      "Standardized DataFrame:\n",
      "      price  zip_code  construction_year  total_area_sqm  surface_land_sqm  \\\n",
      "0 -0.705139 -1.092292          -0.899143       -0.554952         -0.456311   \n",
      "1  0.604759  1.283142           0.340510        0.425216          0.688361   \n",
      "2 -0.061885 -1.418560          -0.507674        0.068792         -0.456311   \n",
      "3  0.908843 -1.017383           1.090827        0.737088          0.393776   \n",
      "4  1.186693 -1.208816          -0.768653        0.737088          0.738861   \n",
      "\n",
      "   nbr_bedrooms  fl_open_fire  fl_terrace  fl_garden  garden_sqm  \\\n",
      "0     -0.590271        -0.451    0.841766  -0.505239   -0.233456   \n",
      "1     -0.590271        -0.451   -1.187958  -0.505239   -0.233456   \n",
      "2      0.374303        -0.451    0.841766  -0.505239   -0.233456   \n",
      "3      0.374303        -0.451   -1.187958  -0.505239   -0.233456   \n",
      "4      0.374303        -0.451   -1.187958  -0.505239   -0.233456   \n",
      "\n",
      "   fl_swimming_pool  subproperty_type_encoded  region_encoded  epc_encoded  \\\n",
      "0               NaN                         1               0            4   \n",
      "1               NaN                         0               0            4   \n",
      "2               NaN                         1               2            5   \n",
      "3               NaN                         0               0            2   \n",
      "4               NaN                         0               0            7   \n",
      "\n",
      "   state_encoded  province_encoded  \n",
      "0              1                 2  \n",
      "1              1                 1  \n",
      "2              0                 5  \n",
      "3              0                 2  \n",
      "4              0                 6  \n",
      "Standardized data saved to 'standardized_data.csv'.\n"
     ]
    }
   ],
   "source": [
    "import pandas as pd\n",
    "\n",
    "# Load the dataset\n",
    "# Replace 'your_file.csv' with the path to your CSV file\n",
    "data = pd.read_csv(r'C:\\Users\\izama\\Desktop\\machine learning\\data\\data_preprocessed.csv')\n",
    "\n",
    "# Display the first few rows of the DataFrame to understand its structure\n",
    "print(\"Initial DataFrame:\")\n",
    "print(data.head())\n",
    "\n",
    "# Identify the numeric columns that need to be standardized\n",
    "# In this case, we have 11 float columns\n",
    "numeric_columns = [\n",
    "    'price',\n",
    "    'zip_code',\n",
    "    'construction_year',\n",
    "    'total_area_sqm',\n",
    "    'surface_land_sqm',\n",
    "    'nbr_bedrooms',\n",
    "    'fl_open_fire',\n",
    "    'fl_terrace',\n",
    "    'fl_garden',\n",
    "    'garden_sqm',\n",
    "    'fl_swimming_pool'\n",
    "]\n",
    "\n",
    "# Calculate the mean and standard deviation for each numeric column\n",
    "mean = data[numeric_columns].mean()\n",
    "std = data[numeric_columns].std()\n",
    "\n",
    "# Standardize the numeric columns\n",
    "# (value - mean) / std\n",
    "data[numeric_columns] = (data[numeric_columns] - mean) / std\n",
    "\n",
    "# Display the first few rows of the standardized DataFrame to check the changes\n",
    "print(\"Standardized DataFrame:\")\n",
    "print(data.head())\n",
    "\n",
    "# Save the standardized data to a new CSV file\n",
    "# Replace 'standardized_data.csv' with your desired output file name\n",
    "data.to_csv('standardized_data.csv', index=False)\n",
    "\n",
    "print(\"Standardized data saved to 'standardized_data.csv'.\")\n"
   ]
  }
 ],
 "metadata": {
  "kernelspec": {
   "display_name": "Python 3",
   "language": "python",
   "name": "python3"
  },
  "language_info": {
   "codemirror_mode": {
    "name": "ipython",
    "version": 3
   },
   "file_extension": ".py",
   "mimetype": "text/x-python",
   "name": "python",
   "nbconvert_exporter": "python",
   "pygments_lexer": "ipython3",
   "version": "3.12.6"
  }
 },
 "nbformat": 4,
 "nbformat_minor": 2
}
