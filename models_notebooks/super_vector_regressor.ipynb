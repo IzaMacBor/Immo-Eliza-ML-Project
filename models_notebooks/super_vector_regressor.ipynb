{
 "cells": [
  {
   "cell_type": "code",
   "execution_count": null,
   "metadata": {},
   "outputs": [],
   "source": [
    "# Support Vector Regressor for Property Price Prediction\n",
    "from sklearn.svm import SVR\n",
    "import pandas as pd\n",
    "from sklearn.metrics import mean_squared_error, mean_absolute_error, r2_score\n",
    "from joblib import dump\n",
    "from sklearn.model_selection import train_test_split\n",
    "import os\n",
    "\n",
    "# Load Preprocessed Data\n",
    "file_path = r'...\\data\\properties_processed.csv'\n",
    "df = pd.read_csv(file_path)\n",
    "X = df.drop(columns=['price'])\n",
    "y = df['price']\n",
    "X_train, X_test, y_train, y_test = train_test_split(X, y, test_size=0.2, random_state=42)\n",
    "\n",
    "# Train Support Vector Regressor Model\n",
    "model = SVR()\n",
    "model.fit(X_train, y_train)\n",
    "\n",
    "# Evaluate Model Performance\n",
    "y_pred = model.predict(X_test)\n",
    "mse = mean_squared_error(y_test, y_pred)\n",
    "mae = mean_absolute_error(y_test, y_pred)\n",
    "r2 = r2_score(y_test, y_pred)\n",
    "print(f'MSE: {mse}, MAE: {mae}, R2 Score: {r2}')\n",
    "\n",
    "# Save the Model and Results\n",
    "results_path = r'...\\results'\n",
    "os.makedirs(results_path, exist_ok=True)  # Create directory if it doesn't exist\n",
    "\n",
    "# Save model with timestamp\n",
    "timestamp = datetime.now().strftime(\"%Y%m%d_%H%M%S\")\n",
    "model_file = os.path.join(results_path, f'svr_model_{timestamp}.joblib')\n",
    "dump(model, model_file)\n",
    "\n",
    "# Save results to CSV with timestamp\n",
    "results_file = os.path.join(results_path, f'svr_results_{timestamp}.csv')\n",
    "pd.DataFrame([{'Model': 'SVR', 'MSE': mse, 'MAE': mae, 'R2': r2}]).to_csv(results_file, index=False)"
   ]
  }
 ],
 "metadata": {
  "kernelspec": {
   "display_name": "Python 3",
   "language": "python",
   "name": "python3"
  },
  "language_info": {
   "codemirror_mode": {
    "name": "ipython",
    "version": 3
   },
   "file_extension": ".py",
   "mimetype": "text/x-python",
   "name": "python",
   "nbconvert_exporter": "python",
   "pygments_lexer": "ipython3",
   "version": "3.12.6"
  }
 },
 "nbformat": 4,
 "nbformat_minor": 2
}
