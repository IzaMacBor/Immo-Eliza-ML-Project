{
 "cells": [
  {
   "cell_type": "code",
   "execution_count": null,
   "metadata": {},
   "outputs": [
    {
     "name": "stderr",
     "output_type": "stream",
     "text": [
      "c:\\Users\\izama\\AppData\\Local\\Programs\\Python\\Python312\\Lib\\site-packages\\sklearn\\impute\\_base.py:598: UserWarning: Skipping features without any observed values: ['fl_swimming_pool']. At least one non-missing value is needed for imputation with strategy='mean'.\n",
      "  warnings.warn(\n"
     ]
    },
    {
     "name": "stdout",
     "output_type": "stream",
     "text": [
      "Fitting 5 folds for each of 4 candidates, totalling 20 fits\n",
      "MSE (Train): 0.6869, MAE (Train): 0.5666, R2 Score (Train): 0.3098\n",
      "MSE (Test): 0.7132, MAE (Test): 0.5771, R2 Score (Test): 0.2998\n",
      "Best Hyperparameters: {'alpha': 10.0}\n",
      "\n",
      "Model and results saved to C:\\Users\\izama\\Desktop\\machine learning\\results.\n"
     ]
    }
   ],
   "source": [
    "# Ridge Regression for Property Price Prediction\n",
    "from sklearn.linear_model import Ridge\n",
    "import pandas as pd\n",
    "from sklearn.metrics import mean_squared_error, mean_absolute_error, r2_score, make_scorer\n",
    "from joblib import dump\n",
    "from sklearn.model_selection import train_test_split, GridSearchCV\n",
    "from sklearn.impute import SimpleImputer\n",
    "import os\n",
    "from datetime import datetime\n",
    "\n",
    "# Load Preprocessed Data\n",
    "file_path = r'...\\data\\standardized_data.csv'\n",
    "df = pd.read_csv(file_path)\n",
    "X = df.drop(columns=['price'])\n",
    "y = df['price']\n",
    "\n",
    "# Impute missing values\n",
    "imputer = SimpleImputer(strategy='mean')  # Can also use 'median' or 'most_frequent'\n",
    "X_imputed = imputer.fit_transform(X)\n",
    "\n",
    "# Split data into training and testing sets (80% train, 20% test)\n",
    "X_train, X_test, y_train, y_test = train_test_split(X_imputed, y, test_size=0.2, random_state=42)\n",
    "\n",
    "# Set up Ridge regression model\n",
    "model = Ridge()\n",
    "\n",
    "# Define hyperparameter grid for tuning\n",
    "param_grid = {\n",
    "    'alpha': [0.1, 1.0, 10.0, 100.0]  # Adjust these values based on your needs\n",
    "}\n",
    "\n",
    "# Set up GridSearchCV for cross-validation and hyperparameter tuning\n",
    "scorer = make_scorer(mean_squared_error, greater_is_better=False)  # Negate for scoring\n",
    "grid_search = GridSearchCV(model, param_grid, cv=5, scoring=scorer, verbose=1)\n",
    "\n",
    "# Fit the model using GridSearchCV\n",
    "grid_search.fit(X_train, y_train)\n",
    "\n",
    "# Best model from grid search\n",
    "best_model = grid_search.best_estimator_\n",
    "\n",
    "# Evaluate Model Performance on Train Set\n",
    "y_pred_train = best_model.predict(X_train)\n",
    "mse_train = mean_squared_error(y_train, y_pred_train)\n",
    "mae_train = mean_absolute_error(y_train, y_pred_train)\n",
    "r2_train = r2_score(y_train, y_pred_train)\n",
    "\n",
    "# Evaluate Model Performance on Test Set\n",
    "y_pred_test = best_model.predict(X_test)\n",
    "mse_test = mean_squared_error(y_test, y_pred_test)\n",
    "mae_test = mean_absolute_error(y_test, y_pred_test)\n",
    "r2_test = r2_score(y_test, y_pred_test)\n",
    "\n",
    "# Print evaluation metrics\n",
    "print(f'MSE (Train): {mse_train:.4f}, MAE (Train): {mae_train:.4f}, R2 Score (Train): {r2_train:.4f}')\n",
    "print(f'MSE (Test): {mse_test:.4f}, MAE (Test): {mae_test:.4f}, R2 Score (Test): {r2_test:.4f}')\n",
    "print(f'Best Hyperparameters: {grid_search.best_params_}')\n",
    "\n",
    "# Save the model and results\n",
    "results_path = r'...\\results'\n",
    "os.makedirs(results_path, exist_ok=True)  # Create directory if it doesn't exist\n",
    "\n",
    "# Save model with timestamp\n",
    "timestamp = datetime.now().strftime(\"%Y%m%d_%H%M%S\")\n",
    "model_file = os.path.join(results_path, f'ridge_model_{timestamp}.joblib')\n",
    "dump(best_model, model_file)\n",
    "\n",
    "# Save results to CSV with timestamp\n",
    "results_file = os.path.join(results_path, f'ridge_results_{timestamp}.csv')\n",
    "pd.DataFrame([{\n",
    "    'Model': 'Ridge Regression',\n",
    "    'Train MSE': mse_train,\n",
    "    'Train MAE': mae_train,\n",
    "    'Train R2': r2_train,\n",
    "    'Test MSE': mse_test,\n",
    "    'Test MAE': mae_test,\n",
    "    'Test R2': r2_test\n",
    "}]).to_csv(results_file, index=False)\n",
    "\n",
    "print(f\"\\nModel and results saved to {results_path}.\")\n"
   ]
  }
 ],
 "metadata": {
  "kernelspec": {
   "display_name": "Python 3",
   "language": "python",
   "name": "python3"
  },
  "language_info": {
   "codemirror_mode": {
    "name": "ipython",
    "version": 3
   },
   "file_extension": ".py",
   "mimetype": "text/x-python",
   "name": "python",
   "nbconvert_exporter": "python",
   "pygments_lexer": "ipython3",
   "version": "3.12.6"
  }
 },
 "nbformat": 4,
 "nbformat_minor": 2
}
