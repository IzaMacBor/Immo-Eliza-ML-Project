{
 "cells": [
  {
   "cell_type": "code",
   "execution_count": null,
   "metadata": {},
   "outputs": [
    {
     "name": "stderr",
     "output_type": "stream",
     "text": [
      "c:\\Users\\izama\\AppData\\Local\\Programs\\Python\\Python312\\Lib\\site-packages\\sklearn\\impute\\_base.py:598: UserWarning: Skipping features without any observed values: ['fl_swimming_pool']. At least one non-missing value is needed for imputation with strategy='mean'.\n",
      "  warnings.warn(\n",
      "c:\\Users\\izama\\AppData\\Local\\Programs\\Python\\Python312\\Lib\\site-packages\\sklearn\\metrics\\_regression.py:492: FutureWarning: 'squared' is deprecated in version 1.4 and will be removed in 1.6. To calculate the root mean squared error, use the function'root_mean_squared_error'.\n",
      "  warnings.warn(\n",
      "c:\\Users\\izama\\AppData\\Local\\Programs\\Python\\Python312\\Lib\\site-packages\\sklearn\\metrics\\_regression.py:492: FutureWarning: 'squared' is deprecated in version 1.4 and will be removed in 1.6. To calculate the root mean squared error, use the function'root_mean_squared_error'.\n",
      "  warnings.warn(\n",
      "c:\\Users\\izama\\AppData\\Local\\Programs\\Python\\Python312\\Lib\\site-packages\\sklearn\\metrics\\_regression.py:492: FutureWarning: 'squared' is deprecated in version 1.4 and will be removed in 1.6. To calculate the root mean squared error, use the function'root_mean_squared_error'.\n",
      "  warnings.warn(\n"
     ]
    },
    {
     "name": "stdout",
     "output_type": "stream",
     "text": [
      "Cross-Validation RMSE Scores: [0.83030271 0.84095125 0.82410886 0.84324833 0.82269665]\n",
      "Mean CV RMSE: 0.832261560347105\n",
      "Standard Deviation of CV RMSE: 0.00846180766474405\n",
      "Train Set Results - MSE: 0.6869076570921281, MAE: 0.5666027469701783, R2 Score: 0.30984254264940014\n",
      "Test Set Results - MSE: 0.7132382241803303, MAE: 0.5771176644339918, R2 Score: 0.29979137506532316\n",
      "\n",
      "Model and results saved to C:\\Users\\izama\\Desktop\\machine learning\\results.\n"
     ]
    },
    {
     "name": "stderr",
     "output_type": "stream",
     "text": [
      "c:\\Users\\izama\\AppData\\Local\\Programs\\Python\\Python312\\Lib\\site-packages\\sklearn\\metrics\\_regression.py:492: FutureWarning: 'squared' is deprecated in version 1.4 and will be removed in 1.6. To calculate the root mean squared error, use the function'root_mean_squared_error'.\n",
      "  warnings.warn(\n",
      "c:\\Users\\izama\\AppData\\Local\\Programs\\Python\\Python312\\Lib\\site-packages\\sklearn\\metrics\\_regression.py:492: FutureWarning: 'squared' is deprecated in version 1.4 and will be removed in 1.6. To calculate the root mean squared error, use the function'root_mean_squared_error'.\n",
      "  warnings.warn(\n"
     ]
    }
   ],
   "source": [
    "from sklearn.linear_model import LinearRegression\n",
    "from sklearn.metrics import mean_squared_error, mean_absolute_error, r2_score, make_scorer\n",
    "from sklearn.model_selection import train_test_split, cross_val_score\n",
    "from joblib import dump\n",
    "import pandas as pd\n",
    "import os\n",
    "from datetime import datetime\n",
    "from sklearn.impute import SimpleImputer\n",
    "\n",
    "# Load Preprocessed Data\n",
    "file_path = r'...\\data\\standardized_data.csv'\n",
    "df = pd.read_csv(file_path)\n",
    "X = df.drop(columns=['price'])\n",
    "y = df['price']\n",
    "\n",
    "# Impute missing values\n",
    "imputer = SimpleImputer(strategy='mean')  # You can also use 'median' or 'most_frequent'\n",
    "X_imputed = imputer.fit_transform(X)\n",
    "\n",
    "# Split the imputed data into train and test sets\n",
    "X_train, X_test, y_train, y_test = train_test_split(X_imputed, y, test_size=0.2, random_state=42)\n",
    "\n",
    "# Train Linear Regression Model with Cross-Validation\n",
    "model = LinearRegression()\n",
    "\n",
    "# Define RMSE as scoring metric for cross-validation\n",
    "scorer = make_scorer(mean_squared_error, squared=False)\n",
    "\n",
    "# Perform 5-fold cross-validation using the imputed data\n",
    "cv_scores = cross_val_score(model, X_imputed, y, cv=5, scoring=scorer)\n",
    "\n",
    "# Fit the model on the standard train-test split for comparison\n",
    "model.fit(X_train, y_train)\n",
    "\n",
    "# Evaluate Model Performance on the training set\n",
    "y_train_pred = model.predict(X_train)\n",
    "mse_train = mean_squared_error(y_train, y_train_pred)\n",
    "mae_train = mean_absolute_error(y_train, y_train_pred)\n",
    "r2_train = r2_score(y_train, y_train_pred)\n",
    "\n",
    "# Evaluate Model Performance on the test split\n",
    "y_test_pred = model.predict(X_test)\n",
    "mse_test = mean_squared_error(y_test, y_test_pred)\n",
    "mae_test = mean_absolute_error(y_test, y_test_pred)\n",
    "r2_test = r2_score(y_test, y_test_pred)\n",
    "\n",
    "# Print Cross-Validation Results\n",
    "print(\"Cross-Validation RMSE Scores:\", cv_scores)\n",
    "print(\"Mean CV RMSE:\", cv_scores.mean())\n",
    "print(\"Standard Deviation of CV RMSE:\", cv_scores.std())\n",
    "\n",
    "# Print Train and Test Set Results\n",
    "print(f'Train Set Results - MSE: {mse_train}, MAE: {mae_train}, R2 Score: {r2_train}')\n",
    "print(f'Test Set Results - MSE: {mse_test}, MAE: {mae_test}, R2 Score: {r2_test}')\n",
    "\n",
    "# Save the Model and Results\n",
    "results_path = r'...\\results'\n",
    "os.makedirs(results_path, exist_ok=True)  # Create directory if it doesn't exist\n",
    "\n",
    "# Save model with timestamp\n",
    "timestamp = datetime.now().strftime(\"%Y%m%d_%H%M%S\")\n",
    "model_file = os.path.join(results_path, f'linear_regression_model_{timestamp}.joblib')\n",
    "dump(model, model_file)\n",
    "\n",
    "# Save results to CSV with timestamp\n",
    "results_file = os.path.join(results_path, f'linear_regression_results_{timestamp}.csv')\n",
    "pd.DataFrame([{\n",
    "    'Model': 'Linear Regression',\n",
    "    'Train MSE': mse_train,\n",
    "    'Train MAE': mae_train,\n",
    "    'Train R2': r2_train,\n",
    "    'Test MSE': mse_test,\n",
    "    'Test MAE': mae_test,\n",
    "    'Test R2': r2_test,\n",
    "    'CV Mean RMSE': cv_scores.mean(),\n",
    "    'CV Std RMSE': cv_scores.std()\n",
    "}]).to_csv(results_file, index=False)\n",
    "\n",
    "print(f\"\\nModel and results saved to {results_path}.\")\n"
   ]
  }
 ],
 "metadata": {
  "kernelspec": {
   "display_name": "Python 3",
   "language": "python",
   "name": "python3"
  },
  "language_info": {
   "codemirror_mode": {
    "name": "ipython",
    "version": 3
   },
   "file_extension": ".py",
   "mimetype": "text/x-python",
   "name": "python",
   "nbconvert_exporter": "python",
   "pygments_lexer": "ipython3",
   "version": "3.12.6"
  }
 },
 "nbformat": 4,
 "nbformat_minor": 2
}
