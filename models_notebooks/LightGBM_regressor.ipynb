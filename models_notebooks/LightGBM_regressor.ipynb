{
 "cells": [
  {
   "cell_type": "code",
   "execution_count": null,
   "metadata": {},
   "outputs": [
    {
     "name": "stdout",
     "output_type": "stream",
     "text": [
      "[LightGBM] [Info] Auto-choosing row-wise multi-threading, the overhead of testing was 0.002245 seconds.\n",
      "You can set `force_row_wise=true` to remove the overhead.\n",
      "And if memory is not enough, you can set `force_col_wise=true`.\n",
      "[LightGBM] [Info] Total Bins 1204\n",
      "[LightGBM] [Info] Number of data points in the train set: 45295, number of used features: 14\n",
      "[LightGBM] [Info] Start training from score -0.002629\n",
      "\n",
      "Train Set Performance:\n",
      "MSE: 0.25037366897972235, MAE: 0.3347926847940165, R2 Score: 0.748441798564184\n",
      "\n",
      "Test Set Performance:\n",
      "MSE: 0.2846875233325708, MAE: 0.35405551239939537, R2 Score: 0.7205132135509913\n",
      "\n",
      "Model and results saved to C:\\Users\\izama\\Desktop\\machine learning\\results.\n"
     ]
    }
   ],
   "source": [
    "from lightgbm import LGBMRegressor\n",
    "import pandas as pd\n",
    "from sklearn.metrics import mean_squared_error, mean_absolute_error, r2_score\n",
    "from joblib import dump\n",
    "from sklearn.model_selection import train_test_split\n",
    "import os\n",
    "from datetime import datetime\n",
    "\n",
    "# Function to save the model and results\n",
    "def save_model_and_results(model, mse_train, mae_train, r2_train, mse_test, mae_test, r2_test):\n",
    "    results_path = r'...\\results'\n",
    "    os.makedirs(results_path, exist_ok=True)  # Create directory if it doesn't exist\n",
    "\n",
    "    # Save model with timestamp\n",
    "    timestamp = datetime.now().strftime(\"%Y%m%d_%H%M%S\")\n",
    "    model_file = os.path.join(results_path, f'lightgbm_model_{timestamp}.joblib')\n",
    "    dump(model, model_file)\n",
    "\n",
    "    # Save results to CSV with timestamp\n",
    "    results_file = os.path.join(results_path, f'lightgbm_results_{timestamp}.csv')\n",
    "    pd.DataFrame([{\n",
    "        'Model': 'LightGBM',\n",
    "        'Train MSE': mse_train,\n",
    "        'Train MAE': mae_train,\n",
    "        'Train R2': r2_train,\n",
    "        'Test MSE': mse_test,\n",
    "        'Test MAE': mae_test,\n",
    "        'Test R2': r2_test\n",
    "    }]).to_csv(results_file, index=False)\n",
    "\n",
    "    print(f\"\\nModel and results saved to {results_path}.\")\n",
    "\n",
    "# Load Preprocessed Data\n",
    "file_path = r'...\\data\\standardized_data.csv'\n",
    "df = pd.read_csv(file_path)\n",
    "X = df.drop(columns=['price'])\n",
    "y = df['price']\n",
    "\n",
    "# Split the dataset into training and testing sets (80% train, 20% test)\n",
    "X_train, X_test, y_train, y_test = train_test_split(X, y, test_size=0.2, random_state=42)\n",
    "\n",
    "# Train LightGBM Regressor Model\n",
    "model = LGBMRegressor()\n",
    "model.fit(X_train, y_train)\n",
    "\n",
    "# Evaluate Model Performance on Training Set\n",
    "y_pred_train = model.predict(X_train)\n",
    "mse_train = mean_squared_error(y_train, y_pred_train)\n",
    "mae_train = mean_absolute_error(y_train, y_pred_train)\n",
    "r2_train = r2_score(y_train, y_pred_train)\n",
    "\n",
    "# Evaluate Model Performance on Test Set\n",
    "y_pred_test = model.predict(X_test)\n",
    "mse_test = mean_squared_error(y_test, y_pred_test)\n",
    "mae_test = mean_absolute_error(y_test, y_pred_test)\n",
    "r2_test = r2_score(y_test, y_pred_test)\n",
    "\n",
    "# Print Results\n",
    "print(f\"\\nTrain Set Performance:\")\n",
    "print(f'MSE: {mse_train}, MAE: {mae_train}, R2 Score: {r2_train}')\n",
    "print(f\"\\nTest Set Performance:\")\n",
    "print(f'MSE: {mse_test}, MAE: {mae_test}, R2 Score: {r2_test}')\n",
    "\n",
    "# Save the Model and Results\n",
    "save_model_and_results(model, mse_train, mae_train, r2_train, mse_test, mae_test, r2_test)\n"
   ]
  }
 ],
 "metadata": {
  "kernelspec": {
   "display_name": "Python 3",
   "language": "python",
   "name": "python3"
  },
  "language_info": {
   "codemirror_mode": {
    "name": "ipython",
    "version": 3
   },
   "file_extension": ".py",
   "mimetype": "text/x-python",
   "name": "python",
   "nbconvert_exporter": "python",
   "pygments_lexer": "ipython3",
   "version": "3.12.6"
  }
 },
 "nbformat": 4,
 "nbformat_minor": 2
}
